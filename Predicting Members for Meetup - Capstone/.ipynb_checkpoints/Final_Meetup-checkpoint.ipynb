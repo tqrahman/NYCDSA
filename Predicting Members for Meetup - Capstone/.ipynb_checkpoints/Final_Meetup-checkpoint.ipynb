{
 "cells": [
  {
   "cell_type": "markdown",
   "metadata": {},
   "source": [
    "# Predicting the Number of Members in a Meetup Group"
   ]
  },
  {
   "cell_type": "markdown",
   "metadata": {},
   "source": [
    "In this project, I will predict the number of members in a Meetup Group based on the data retrieved from API requests. Before looking at the data, I will hypothesize that there will be key features that will help me predict the total members. The features would be:\n",
    "1. Rating of Meetup: the higher the rating, the more likely people will join\n",
    "2. Topic: if it is a niche topic, many people might not join\n",
    "3. Age of the Group: the older the group, the more time it has to accumalate members"
   ]
  },
  {
   "cell_type": "code",
   "execution_count": 1,
   "metadata": {
    "collapsed": false,
    "scrolled": false
   },
   "outputs": [],
   "source": [
    "# Imports\n",
    "\n",
    "from __future__ import unicode_literals\n",
    "\n",
    "import requests\n",
    "import json\n",
    "import time\n",
    "import codecs\n",
    "import sys\n",
    "import pandas as pd\n",
    "import gensim\n",
    "import xml.etree.ElementTree as ET\n",
    "import numpy as np\n",
    "import matplotlib.pyplot as plt\n",
    "from string import punctuation\n",
    "import nltk\n",
    "import seaborn as sns\n",
    "import plotly.plotly as py\n",
    "from sklearn.preprocessing import Imputer\n",
    "%matplotlib inline"
   ]
  },
  {
   "cell_type": "markdown",
   "metadata": {},
   "source": [
    "## Retrieving APIs from Meetup"
   ]
  },
  {
   "cell_type": "code",
   "execution_count": null,
   "metadata": {
    "collapsed": true
   },
   "outputs": [],
   "source": [
    "# MeetUp information retrieval by API\n",
    "\n",
    "UTF8Writer = codecs.getwriter('utf8')\n",
    "sys.stdout = UTF8Writer(sys.stdout)\n",
    "\n",
    "def main(city, state):\n",
    "    \n",
    "        api_key= \"4744164f49612216157364d1294939\"\n",
    "        \n",
    "        result = []\n",
    "        per_page = 200\n",
    "        offset = 0\n",
    "        count = 0\n",
    "        while count <= 10:\n",
    "            response=get_results({\"sign\":\"true\",\"country\":\"US\", \"city\": city, \"state\": state, \"radius\": 10, \"key\":api_key, \"page\":per_page, \"offset\":offset })\n",
    "            time.sleep(1)\n",
    "            offset += 1\n",
    "#             print response\n",
    "            result.extend(response['results'])\n",
    "            count +=1\n",
    "        time.sleep(1)\n",
    "        return result\n",
    "\n",
    "def get_results(params):\n",
    "    request = requests.get(\"http://api.meetup.com/2/groups\",params=params)\n",
    "    data = request.json()\n",
    "    \n",
    "    return data\n",
    "\n",
    "ny_data = main(\"New York\", \"NY\")\n",
    "ca_data = main(\"Los Angeles\", \"CA\")\n",
    "il_data = main(\"Chicago\", \"IL\")\n",
    "tx_data = main(\"Houston\", \"TX\")\n",
    "az_data = main(\"Phoenix\", \"AZ\")"
   ]
  },
  {
   "cell_type": "code",
   "execution_count": null,
   "metadata": {
    "collapsed": false,
    "scrolled": false
   },
   "outputs": [],
   "source": [
    "# Extend all the lists into one list\n",
    "\n",
    "ny_data.extend(ca_data)\n",
    "ny_data.extend(il_data)\n",
    "ny_data.extend(tx_data)\n",
    "ny_data.extend(az_data)"
   ]
  },
  {
   "cell_type": "code",
   "execution_count": null,
   "metadata": {
    "collapsed": true
   },
   "outputs": [],
   "source": [
    "# Convert list into a pd.DataFrame\n",
    "\n",
    "df = pd.DataFrame(ny_data)\n",
    "# df.to_csv('meetup_data.csv', encoding='UTF-8', index=False) # Saving data into csv"
   ]
  },
  {
   "cell_type": "code",
   "execution_count": 2,
   "metadata": {
    "collapsed": false
   },
   "outputs": [],
   "source": [
    "# Reading csv into a dataframe\n",
    "\n",
    "df = pd.read_csv('/Users/tqrahman/meetup_data.csv')"
   ]
  },
  {
   "cell_type": "markdown",
   "metadata": {},
   "source": [
    "## Data Exploration"
   ]
  },
  {
   "cell_type": "code",
   "execution_count": 3,
   "metadata": {
    "collapsed": false
   },
   "outputs": [
    {
     "data": {
      "text/html": [
       "<div>\n",
       "<table border=\"1\" class=\"dataframe\">\n",
       "  <thead>\n",
       "    <tr style=\"text-align: right;\">\n",
       "      <th></th>\n",
       "      <th>category</th>\n",
       "      <th>city</th>\n",
       "      <th>country</th>\n",
       "      <th>created</th>\n",
       "      <th>description</th>\n",
       "      <th>group_photo</th>\n",
       "      <th>id</th>\n",
       "      <th>join_mode</th>\n",
       "      <th>lat</th>\n",
       "      <th>link</th>\n",
       "      <th>...</th>\n",
       "      <th>name</th>\n",
       "      <th>organizer</th>\n",
       "      <th>rating</th>\n",
       "      <th>state</th>\n",
       "      <th>timezone</th>\n",
       "      <th>topics</th>\n",
       "      <th>urlname</th>\n",
       "      <th>utc_offset</th>\n",
       "      <th>visibility</th>\n",
       "      <th>who</th>\n",
       "    </tr>\n",
       "  </thead>\n",
       "  <tbody>\n",
       "    <tr>\n",
       "      <th>0</th>\n",
       "      <td>{u'shortname': u'movies-film', u'name': u'movi...</td>\n",
       "      <td>New York</td>\n",
       "      <td>US</td>\n",
       "      <td>1034097731000</td>\n",
       "      <td>&lt;p&gt; &lt;br&gt;&lt;/p&gt;\\n&lt;p&gt;&lt;img src=\"http://photos3.meet...</td>\n",
       "      <td>{u'thumb_link': u'http://photos1.meetupstatic....</td>\n",
       "      <td>61244</td>\n",
       "      <td>approval</td>\n",
       "      <td>40.750000</td>\n",
       "      <td>http://www.meetup.com/The-New-York-City-Filmma...</td>\n",
       "      <td>...</td>\n",
       "      <td>New York City Filmmakers Group &amp; The Directors...</td>\n",
       "      <td>{u'photo': {u'thumb_link': u'http://photos1.me...</td>\n",
       "      <td>3.93</td>\n",
       "      <td>NY</td>\n",
       "      <td>US/Eastern</td>\n",
       "      <td>[{u'name': u'Acting', u'urlkey': u'acting', u'...</td>\n",
       "      <td>The-New-York-City-Filmmakers-Group</td>\n",
       "      <td>-14400000</td>\n",
       "      <td>members</td>\n",
       "      <td>DIRECTORS ACTORS SCREENWRITERS</td>\n",
       "    </tr>\n",
       "    <tr>\n",
       "      <th>1</th>\n",
       "      <td>{u'shortname': u'career-business', u'name': u'...</td>\n",
       "      <td>New York</td>\n",
       "      <td>US</td>\n",
       "      <td>1034097731000</td>\n",
       "      <td>&lt;p&gt;Anyone who runs their own business or would...</td>\n",
       "      <td>{u'thumb_link': u'http://photos2.meetupstatic....</td>\n",
       "      <td>54628</td>\n",
       "      <td>open</td>\n",
       "      <td>40.750000</td>\n",
       "      <td>http://www.meetup.com/entrepreneur-23/</td>\n",
       "      <td>...</td>\n",
       "      <td>The New York City Entrepreneur Meetup Group</td>\n",
       "      <td>{u'photo': {u'thumb_link': u'http://photos1.me...</td>\n",
       "      <td>3.70</td>\n",
       "      <td>NY</td>\n",
       "      <td>US/Eastern</td>\n",
       "      <td>[{u'name': u'Small Business', u'urlkey': u'sma...</td>\n",
       "      <td>entrepreneur-23</td>\n",
       "      <td>-14400000</td>\n",
       "      <td>public</td>\n",
       "      <td>Entrepreneurs</td>\n",
       "    </tr>\n",
       "    <tr>\n",
       "      <th>2</th>\n",
       "      <td>{u'shortname': u'photography', u'name': u'phot...</td>\n",
       "      <td>New York</td>\n",
       "      <td>US</td>\n",
       "      <td>1034097731000</td>\n",
       "      <td>&lt;p&gt;&lt;span&gt;Hi all! I'm Ed Lee, the organizer of ...</td>\n",
       "      <td>{u'thumb_link': u'http://photos1.meetupstatic....</td>\n",
       "      <td>120182</td>\n",
       "      <td>open</td>\n",
       "      <td>40.740002</td>\n",
       "      <td>http://www.meetup.com/NYPhotoSafari/</td>\n",
       "      <td>...</td>\n",
       "      <td>NY Photo &amp; Safari Meetup</td>\n",
       "      <td>{u'photo': {u'thumb_link': u'http://photos3.me...</td>\n",
       "      <td>4.45</td>\n",
       "      <td>NY</td>\n",
       "      <td>US/Eastern</td>\n",
       "      <td>[{u'name': u'Digital Photography', u'urlkey': ...</td>\n",
       "      <td>NYPhotoSafari</td>\n",
       "      <td>-14400000</td>\n",
       "      <td>public</td>\n",
       "      <td>Photographers</td>\n",
       "    </tr>\n",
       "    <tr>\n",
       "      <th>3</th>\n",
       "      <td>{u'shortname': u'government-politics', u'name'...</td>\n",
       "      <td>New York</td>\n",
       "      <td>US</td>\n",
       "      <td>1034097731000</td>\n",
       "      <td>We are a Political and Social Mixer, primarily...</td>\n",
       "      <td>{u'thumb_link': u'http://photos3.meetupstatic....</td>\n",
       "      <td>131291</td>\n",
       "      <td>open</td>\n",
       "      <td>40.750000</td>\n",
       "      <td>http://www.meetup.com/Republican-Party-NYC/</td>\n",
       "      <td>...</td>\n",
       "      <td>The New York City Republican Party Meetup Group</td>\n",
       "      <td>{u'photo': {u'thumb_link': u'http://photos2.me...</td>\n",
       "      <td>3.45</td>\n",
       "      <td>NY</td>\n",
       "      <td>US/Eastern</td>\n",
       "      <td>[{u'name': u'Republican Party', u'urlkey': u'r...</td>\n",
       "      <td>Republican-Party-NYC</td>\n",
       "      <td>-14400000</td>\n",
       "      <td>public</td>\n",
       "      <td>Republicans</td>\n",
       "    </tr>\n",
       "    <tr>\n",
       "      <th>4</th>\n",
       "      <td>{u'shortname': u'sci-fi-fantasy', u'name': u's...</td>\n",
       "      <td>New York</td>\n",
       "      <td>US</td>\n",
       "      <td>1034097734000</td>\n",
       "      <td>&lt;p&gt;This Meetup Group is for Trekkies / Trekker...</td>\n",
       "      <td>{u'thumb_link': u'http://photos3.meetupstatic....</td>\n",
       "      <td>147811</td>\n",
       "      <td>open</td>\n",
       "      <td>40.750000</td>\n",
       "      <td>http://www.meetup.com/nystartrek/</td>\n",
       "      <td>...</td>\n",
       "      <td>The New York City Star Trek Meetup Group</td>\n",
       "      <td>{u'name': u'Fola Fadahunsi', u'member_id': 205...</td>\n",
       "      <td>4.49</td>\n",
       "      <td>NY</td>\n",
       "      <td>US/Eastern</td>\n",
       "      <td>[{u'name': u'Star Trek', u'urlkey': u'startrek...</td>\n",
       "      <td>nystartrek</td>\n",
       "      <td>-14400000</td>\n",
       "      <td>public</td>\n",
       "      <td>Trekkies / Trekkers</td>\n",
       "    </tr>\n",
       "  </tbody>\n",
       "</table>\n",
       "<p>5 rows × 22 columns</p>\n",
       "</div>"
      ],
      "text/plain": [
       "                                            category      city country  \\\n",
       "0  {u'shortname': u'movies-film', u'name': u'movi...  New York      US   \n",
       "1  {u'shortname': u'career-business', u'name': u'...  New York      US   \n",
       "2  {u'shortname': u'photography', u'name': u'phot...  New York      US   \n",
       "3  {u'shortname': u'government-politics', u'name'...  New York      US   \n",
       "4  {u'shortname': u'sci-fi-fantasy', u'name': u's...  New York      US   \n",
       "\n",
       "         created                                        description  \\\n",
       "0  1034097731000  <p> <br></p>\\n<p><img src=\"http://photos3.meet...   \n",
       "1  1034097731000  <p>Anyone who runs their own business or would...   \n",
       "2  1034097731000  <p><span>Hi all! I'm Ed Lee, the organizer of ...   \n",
       "3  1034097731000  We are a Political and Social Mixer, primarily...   \n",
       "4  1034097734000  <p>This Meetup Group is for Trekkies / Trekker...   \n",
       "\n",
       "                                         group_photo      id join_mode  \\\n",
       "0  {u'thumb_link': u'http://photos1.meetupstatic....   61244  approval   \n",
       "1  {u'thumb_link': u'http://photos2.meetupstatic....   54628      open   \n",
       "2  {u'thumb_link': u'http://photos1.meetupstatic....  120182      open   \n",
       "3  {u'thumb_link': u'http://photos3.meetupstatic....  131291      open   \n",
       "4  {u'thumb_link': u'http://photos3.meetupstatic....  147811      open   \n",
       "\n",
       "         lat                                               link  \\\n",
       "0  40.750000  http://www.meetup.com/The-New-York-City-Filmma...   \n",
       "1  40.750000             http://www.meetup.com/entrepreneur-23/   \n",
       "2  40.740002               http://www.meetup.com/NYPhotoSafari/   \n",
       "3  40.750000        http://www.meetup.com/Republican-Party-NYC/   \n",
       "4  40.750000                  http://www.meetup.com/nystartrek/   \n",
       "\n",
       "                ...                \\\n",
       "0               ...                 \n",
       "1               ...                 \n",
       "2               ...                 \n",
       "3               ...                 \n",
       "4               ...                 \n",
       "\n",
       "                                                name  \\\n",
       "0  New York City Filmmakers Group & The Directors...   \n",
       "1        The New York City Entrepreneur Meetup Group   \n",
       "2                           NY Photo & Safari Meetup   \n",
       "3    The New York City Republican Party Meetup Group   \n",
       "4           The New York City Star Trek Meetup Group   \n",
       "\n",
       "                                           organizer rating state    timezone  \\\n",
       "0  {u'photo': {u'thumb_link': u'http://photos1.me...   3.93    NY  US/Eastern   \n",
       "1  {u'photo': {u'thumb_link': u'http://photos1.me...   3.70    NY  US/Eastern   \n",
       "2  {u'photo': {u'thumb_link': u'http://photos3.me...   4.45    NY  US/Eastern   \n",
       "3  {u'photo': {u'thumb_link': u'http://photos2.me...   3.45    NY  US/Eastern   \n",
       "4  {u'name': u'Fola Fadahunsi', u'member_id': 205...   4.49    NY  US/Eastern   \n",
       "\n",
       "                                              topics  \\\n",
       "0  [{u'name': u'Acting', u'urlkey': u'acting', u'...   \n",
       "1  [{u'name': u'Small Business', u'urlkey': u'sma...   \n",
       "2  [{u'name': u'Digital Photography', u'urlkey': ...   \n",
       "3  [{u'name': u'Republican Party', u'urlkey': u'r...   \n",
       "4  [{u'name': u'Star Trek', u'urlkey': u'startrek...   \n",
       "\n",
       "                              urlname utc_offset visibility  \\\n",
       "0  The-New-York-City-Filmmakers-Group  -14400000    members   \n",
       "1                     entrepreneur-23  -14400000     public   \n",
       "2                       NYPhotoSafari  -14400000     public   \n",
       "3                Republican-Party-NYC  -14400000     public   \n",
       "4                          nystartrek  -14400000     public   \n",
       "\n",
       "                              who  \n",
       "0  DIRECTORS ACTORS SCREENWRITERS  \n",
       "1                   Entrepreneurs  \n",
       "2                   Photographers  \n",
       "3                     Republicans  \n",
       "4             Trekkies / Trekkers  \n",
       "\n",
       "[5 rows x 22 columns]"
      ]
     },
     "execution_count": 3,
     "metadata": {},
     "output_type": "execute_result"
    }
   ],
   "source": [
    "# Looking at the top rows\n",
    "\n",
    "df.head()"
   ]
  },
  {
   "cell_type": "code",
   "execution_count": 4,
   "metadata": {
    "collapsed": false
   },
   "outputs": [
    {
     "data": {
      "text/html": [
       "<div>\n",
       "<table border=\"1\" class=\"dataframe\">\n",
       "  <thead>\n",
       "    <tr style=\"text-align: right;\">\n",
       "      <th></th>\n",
       "      <th>created</th>\n",
       "      <th>id</th>\n",
       "      <th>lat</th>\n",
       "      <th>lon</th>\n",
       "      <th>members_</th>\n",
       "      <th>rating</th>\n",
       "      <th>utc_offset</th>\n",
       "    </tr>\n",
       "  </thead>\n",
       "  <tbody>\n",
       "    <tr>\n",
       "      <th>count</th>\n",
       "      <td>1.609200e+04</td>\n",
       "      <td>1.609200e+04</td>\n",
       "      <td>16092.000000</td>\n",
       "      <td>16092.000000</td>\n",
       "      <td>16092.000000</td>\n",
       "      <td>16092.000000</td>\n",
       "      <td>1.609200e+04</td>\n",
       "    </tr>\n",
       "    <tr>\n",
       "      <th>mean</th>\n",
       "      <td>1.354199e+12</td>\n",
       "      <td>1.074443e+07</td>\n",
       "      <td>35.991071</td>\n",
       "      <td>-102.184263</td>\n",
       "      <td>581.138205</td>\n",
       "      <td>3.611775</td>\n",
       "      <td>-2.101186e+07</td>\n",
       "    </tr>\n",
       "    <tr>\n",
       "      <th>std</th>\n",
       "      <td>1.003014e+11</td>\n",
       "      <td>7.974981e+06</td>\n",
       "      <td>3.993424</td>\n",
       "      <td>17.386243</td>\n",
       "      <td>1245.637519</td>\n",
       "      <td>2.043235</td>\n",
       "      <td>4.420665e+06</td>\n",
       "    </tr>\n",
       "    <tr>\n",
       "      <th>min</th>\n",
       "      <td>1.034098e+12</td>\n",
       "      <td>1.048000e+03</td>\n",
       "      <td>29.350000</td>\n",
       "      <td>-122.080002</td>\n",
       "      <td>1.000000</td>\n",
       "      <td>0.000000</td>\n",
       "      <td>-2.520000e+07</td>\n",
       "    </tr>\n",
       "    <tr>\n",
       "      <th>25%</th>\n",
       "      <td>1.284838e+12</td>\n",
       "      <td>1.708982e+06</td>\n",
       "      <td>32.799999</td>\n",
       "      <td>-118.239998</td>\n",
       "      <td>71.000000</td>\n",
       "      <td>3.670000</td>\n",
       "      <td>-2.520000e+07</td>\n",
       "    </tr>\n",
       "    <tr>\n",
       "      <th>50%</th>\n",
       "      <td>1.390334e+12</td>\n",
       "      <td>1.234197e+07</td>\n",
       "      <td>34.060001</td>\n",
       "      <td>-111.910004</td>\n",
       "      <td>216.000000</td>\n",
       "      <td>4.730000</td>\n",
       "      <td>-2.520000e+07</td>\n",
       "    </tr>\n",
       "    <tr>\n",
       "      <th>75%</th>\n",
       "      <td>1.436944e+12</td>\n",
       "      <td>1.874295e+07</td>\n",
       "      <td>40.720001</td>\n",
       "      <td>-87.650002</td>\n",
       "      <td>615.000000</td>\n",
       "      <td>4.920000</td>\n",
       "      <td>-1.800000e+07</td>\n",
       "    </tr>\n",
       "    <tr>\n",
       "      <th>max</th>\n",
       "      <td>1.467505e+12</td>\n",
       "      <td>2.013958e+07</td>\n",
       "      <td>42.009998</td>\n",
       "      <td>-73.800003</td>\n",
       "      <td>51341.000000</td>\n",
       "      <td>5.000000</td>\n",
       "      <td>-1.440000e+07</td>\n",
       "    </tr>\n",
       "  </tbody>\n",
       "</table>\n",
       "</div>"
      ],
      "text/plain": [
       "            created            id           lat           lon      members_  \\\n",
       "count  1.609200e+04  1.609200e+04  16092.000000  16092.000000  16092.000000   \n",
       "mean   1.354199e+12  1.074443e+07     35.991071   -102.184263    581.138205   \n",
       "std    1.003014e+11  7.974981e+06      3.993424     17.386243   1245.637519   \n",
       "min    1.034098e+12  1.048000e+03     29.350000   -122.080002      1.000000   \n",
       "25%    1.284838e+12  1.708982e+06     32.799999   -118.239998     71.000000   \n",
       "50%    1.390334e+12  1.234197e+07     34.060001   -111.910004    216.000000   \n",
       "75%    1.436944e+12  1.874295e+07     40.720001    -87.650002    615.000000   \n",
       "max    1.467505e+12  2.013958e+07     42.009998    -73.800003  51341.000000   \n",
       "\n",
       "             rating    utc_offset  \n",
       "count  16092.000000  1.609200e+04  \n",
       "mean       3.611775 -2.101186e+07  \n",
       "std        2.043235  4.420665e+06  \n",
       "min        0.000000 -2.520000e+07  \n",
       "25%        3.670000 -2.520000e+07  \n",
       "50%        4.730000 -2.520000e+07  \n",
       "75%        4.920000 -1.800000e+07  \n",
       "max        5.000000 -1.440000e+07  "
      ]
     },
     "execution_count": 4,
     "metadata": {},
     "output_type": "execute_result"
    }
   ],
   "source": [
    "df.describe()"
   ]
  },
  {
   "cell_type": "code",
   "execution_count": 5,
   "metadata": {
    "collapsed": false
   },
   "outputs": [
    {
     "data": {
      "text/plain": [
       "(16092, 22)"
      ]
     },
     "execution_count": 5,
     "metadata": {},
     "output_type": "execute_result"
    }
   ],
   "source": [
    "df.shape"
   ]
  },
  {
   "cell_type": "code",
   "execution_count": 6,
   "metadata": {
    "collapsed": false
   },
   "outputs": [
    {
     "data": {
      "text/plain": [
       "Index([u'category', u'city', u'country', u'created', u'description',\n",
       "       u'group_photo', u'id', u'join_mode', u'lat', u'link', u'lon',\n",
       "       u'members_', u'name', u'organizer', u'rating', u'state', u'timezone',\n",
       "       u'topics', u'urlname', u'utc_offset', u'visibility', u'who'],\n",
       "      dtype='object')"
      ]
     },
     "execution_count": 6,
     "metadata": {},
     "output_type": "execute_result"
    }
   ],
   "source": [
    "df.columns"
   ]
  },
  {
   "cell_type": "markdown",
   "metadata": {},
   "source": [
    "Based on the columns of data:\n",
    "1. Ratings can be checked\n",
    "2. Topic can be checked (also there are 'categories' and 'who')\n",
    "3. 'Created' can be used to find the age of the meetup\n",
    "4. There is also location that I can utilize with 'city', 'country', 'lat', 'lon'\n",
    "5. 'group_photo' can also be an important feature.\n",
    "There are a lot of possible features that can help predict the group members."
   ]
  },
  {
   "cell_type": "markdown",
   "metadata": {},
   "source": [
    "#### Age Exploration"
   ]
  },
  {
   "cell_type": "code",
   "execution_count": 7,
   "metadata": {
    "collapsed": true
   },
   "outputs": [],
   "source": [
    "# It seems like the epoch time is 1000 times greater. Need to divide by 1000\n",
    "\n",
    "df['created'] = df.apply(lambda x: x['created']/1000, axis=1)"
   ]
  },
  {
   "cell_type": "code",
   "execution_count": 8,
   "metadata": {
    "collapsed": true
   },
   "outputs": [],
   "source": [
    "# Creating an 'age' feature by converting 07-01-2016 (date of data request) into epoch time and subracting \n",
    "# from 'created'\n",
    "\n",
    "date_time = '01.07.2016 00:00:00'\n",
    "pattern = '%d.%m.%Y %H:%M:%S'\n",
    "epoch = int(time.mktime(time.strptime(date_time, pattern)))\n",
    "df['age'] = df.apply(lambda x: epoch - x['created'], axis=1)"
   ]
  },
  {
   "cell_type": "code",
   "execution_count": 9,
   "metadata": {
    "collapsed": false
   },
   "outputs": [
    {
     "data": {
      "text/html": [
       "<div>\n",
       "<table border=\"1\" class=\"dataframe\">\n",
       "  <thead>\n",
       "    <tr style=\"text-align: right;\">\n",
       "      <th></th>\n",
       "      <th>category</th>\n",
       "      <th>city</th>\n",
       "      <th>country</th>\n",
       "      <th>created</th>\n",
       "      <th>description</th>\n",
       "      <th>group_photo</th>\n",
       "      <th>id</th>\n",
       "      <th>join_mode</th>\n",
       "      <th>lat</th>\n",
       "      <th>link</th>\n",
       "      <th>...</th>\n",
       "      <th>organizer</th>\n",
       "      <th>rating</th>\n",
       "      <th>state</th>\n",
       "      <th>timezone</th>\n",
       "      <th>topics</th>\n",
       "      <th>urlname</th>\n",
       "      <th>utc_offset</th>\n",
       "      <th>visibility</th>\n",
       "      <th>who</th>\n",
       "      <th>age</th>\n",
       "    </tr>\n",
       "  </thead>\n",
       "  <tbody>\n",
       "    <tr>\n",
       "      <th>0</th>\n",
       "      <td>{u'shortname': u'movies-film', u'name': u'movi...</td>\n",
       "      <td>New York</td>\n",
       "      <td>US</td>\n",
       "      <td>1034097731</td>\n",
       "      <td>&lt;p&gt; &lt;br&gt;&lt;/p&gt;\\n&lt;p&gt;&lt;img src=\"http://photos3.meet...</td>\n",
       "      <td>{u'thumb_link': u'http://photos1.meetupstatic....</td>\n",
       "      <td>61244</td>\n",
       "      <td>approval</td>\n",
       "      <td>40.750000</td>\n",
       "      <td>http://www.meetup.com/The-New-York-City-Filmma...</td>\n",
       "      <td>...</td>\n",
       "      <td>{u'photo': {u'thumb_link': u'http://photos1.me...</td>\n",
       "      <td>3.93</td>\n",
       "      <td>NY</td>\n",
       "      <td>US/Eastern</td>\n",
       "      <td>[{u'name': u'Acting', u'urlkey': u'acting', u'...</td>\n",
       "      <td>The-New-York-City-Filmmakers-Group</td>\n",
       "      <td>-14400000</td>\n",
       "      <td>members</td>\n",
       "      <td>DIRECTORS ACTORS SCREENWRITERS</td>\n",
       "      <td>433247869</td>\n",
       "    </tr>\n",
       "    <tr>\n",
       "      <th>1</th>\n",
       "      <td>{u'shortname': u'career-business', u'name': u'...</td>\n",
       "      <td>New York</td>\n",
       "      <td>US</td>\n",
       "      <td>1034097731</td>\n",
       "      <td>&lt;p&gt;Anyone who runs their own business or would...</td>\n",
       "      <td>{u'thumb_link': u'http://photos2.meetupstatic....</td>\n",
       "      <td>54628</td>\n",
       "      <td>open</td>\n",
       "      <td>40.750000</td>\n",
       "      <td>http://www.meetup.com/entrepreneur-23/</td>\n",
       "      <td>...</td>\n",
       "      <td>{u'photo': {u'thumb_link': u'http://photos1.me...</td>\n",
       "      <td>3.70</td>\n",
       "      <td>NY</td>\n",
       "      <td>US/Eastern</td>\n",
       "      <td>[{u'name': u'Small Business', u'urlkey': u'sma...</td>\n",
       "      <td>entrepreneur-23</td>\n",
       "      <td>-14400000</td>\n",
       "      <td>public</td>\n",
       "      <td>Entrepreneurs</td>\n",
       "      <td>433247869</td>\n",
       "    </tr>\n",
       "    <tr>\n",
       "      <th>2</th>\n",
       "      <td>{u'shortname': u'photography', u'name': u'phot...</td>\n",
       "      <td>New York</td>\n",
       "      <td>US</td>\n",
       "      <td>1034097731</td>\n",
       "      <td>&lt;p&gt;&lt;span&gt;Hi all! I'm Ed Lee, the organizer of ...</td>\n",
       "      <td>{u'thumb_link': u'http://photos1.meetupstatic....</td>\n",
       "      <td>120182</td>\n",
       "      <td>open</td>\n",
       "      <td>40.740002</td>\n",
       "      <td>http://www.meetup.com/NYPhotoSafari/</td>\n",
       "      <td>...</td>\n",
       "      <td>{u'photo': {u'thumb_link': u'http://photos3.me...</td>\n",
       "      <td>4.45</td>\n",
       "      <td>NY</td>\n",
       "      <td>US/Eastern</td>\n",
       "      <td>[{u'name': u'Digital Photography', u'urlkey': ...</td>\n",
       "      <td>NYPhotoSafari</td>\n",
       "      <td>-14400000</td>\n",
       "      <td>public</td>\n",
       "      <td>Photographers</td>\n",
       "      <td>433247869</td>\n",
       "    </tr>\n",
       "    <tr>\n",
       "      <th>3</th>\n",
       "      <td>{u'shortname': u'government-politics', u'name'...</td>\n",
       "      <td>New York</td>\n",
       "      <td>US</td>\n",
       "      <td>1034097731</td>\n",
       "      <td>We are a Political and Social Mixer, primarily...</td>\n",
       "      <td>{u'thumb_link': u'http://photos3.meetupstatic....</td>\n",
       "      <td>131291</td>\n",
       "      <td>open</td>\n",
       "      <td>40.750000</td>\n",
       "      <td>http://www.meetup.com/Republican-Party-NYC/</td>\n",
       "      <td>...</td>\n",
       "      <td>{u'photo': {u'thumb_link': u'http://photos2.me...</td>\n",
       "      <td>3.45</td>\n",
       "      <td>NY</td>\n",
       "      <td>US/Eastern</td>\n",
       "      <td>[{u'name': u'Republican Party', u'urlkey': u'r...</td>\n",
       "      <td>Republican-Party-NYC</td>\n",
       "      <td>-14400000</td>\n",
       "      <td>public</td>\n",
       "      <td>Republicans</td>\n",
       "      <td>433247869</td>\n",
       "    </tr>\n",
       "    <tr>\n",
       "      <th>4</th>\n",
       "      <td>{u'shortname': u'sci-fi-fantasy', u'name': u's...</td>\n",
       "      <td>New York</td>\n",
       "      <td>US</td>\n",
       "      <td>1034097734</td>\n",
       "      <td>&lt;p&gt;This Meetup Group is for Trekkies / Trekker...</td>\n",
       "      <td>{u'thumb_link': u'http://photos3.meetupstatic....</td>\n",
       "      <td>147811</td>\n",
       "      <td>open</td>\n",
       "      <td>40.750000</td>\n",
       "      <td>http://www.meetup.com/nystartrek/</td>\n",
       "      <td>...</td>\n",
       "      <td>{u'name': u'Fola Fadahunsi', u'member_id': 205...</td>\n",
       "      <td>4.49</td>\n",
       "      <td>NY</td>\n",
       "      <td>US/Eastern</td>\n",
       "      <td>[{u'name': u'Star Trek', u'urlkey': u'startrek...</td>\n",
       "      <td>nystartrek</td>\n",
       "      <td>-14400000</td>\n",
       "      <td>public</td>\n",
       "      <td>Trekkies / Trekkers</td>\n",
       "      <td>433247866</td>\n",
       "    </tr>\n",
       "  </tbody>\n",
       "</table>\n",
       "<p>5 rows × 23 columns</p>\n",
       "</div>"
      ],
      "text/plain": [
       "                                            category      city country  \\\n",
       "0  {u'shortname': u'movies-film', u'name': u'movi...  New York      US   \n",
       "1  {u'shortname': u'career-business', u'name': u'...  New York      US   \n",
       "2  {u'shortname': u'photography', u'name': u'phot...  New York      US   \n",
       "3  {u'shortname': u'government-politics', u'name'...  New York      US   \n",
       "4  {u'shortname': u'sci-fi-fantasy', u'name': u's...  New York      US   \n",
       "\n",
       "      created                                        description  \\\n",
       "0  1034097731  <p> <br></p>\\n<p><img src=\"http://photos3.meet...   \n",
       "1  1034097731  <p>Anyone who runs their own business or would...   \n",
       "2  1034097731  <p><span>Hi all! I'm Ed Lee, the organizer of ...   \n",
       "3  1034097731  We are a Political and Social Mixer, primarily...   \n",
       "4  1034097734  <p>This Meetup Group is for Trekkies / Trekker...   \n",
       "\n",
       "                                         group_photo      id join_mode  \\\n",
       "0  {u'thumb_link': u'http://photos1.meetupstatic....   61244  approval   \n",
       "1  {u'thumb_link': u'http://photos2.meetupstatic....   54628      open   \n",
       "2  {u'thumb_link': u'http://photos1.meetupstatic....  120182      open   \n",
       "3  {u'thumb_link': u'http://photos3.meetupstatic....  131291      open   \n",
       "4  {u'thumb_link': u'http://photos3.meetupstatic....  147811      open   \n",
       "\n",
       "         lat                                               link    ...      \\\n",
       "0  40.750000  http://www.meetup.com/The-New-York-City-Filmma...    ...       \n",
       "1  40.750000             http://www.meetup.com/entrepreneur-23/    ...       \n",
       "2  40.740002               http://www.meetup.com/NYPhotoSafari/    ...       \n",
       "3  40.750000        http://www.meetup.com/Republican-Party-NYC/    ...       \n",
       "4  40.750000                  http://www.meetup.com/nystartrek/    ...       \n",
       "\n",
       "                                           organizer  rating state  \\\n",
       "0  {u'photo': {u'thumb_link': u'http://photos1.me...    3.93    NY   \n",
       "1  {u'photo': {u'thumb_link': u'http://photos1.me...    3.70    NY   \n",
       "2  {u'photo': {u'thumb_link': u'http://photos3.me...    4.45    NY   \n",
       "3  {u'photo': {u'thumb_link': u'http://photos2.me...    3.45    NY   \n",
       "4  {u'name': u'Fola Fadahunsi', u'member_id': 205...    4.49    NY   \n",
       "\n",
       "     timezone                                             topics  \\\n",
       "0  US/Eastern  [{u'name': u'Acting', u'urlkey': u'acting', u'...   \n",
       "1  US/Eastern  [{u'name': u'Small Business', u'urlkey': u'sma...   \n",
       "2  US/Eastern  [{u'name': u'Digital Photography', u'urlkey': ...   \n",
       "3  US/Eastern  [{u'name': u'Republican Party', u'urlkey': u'r...   \n",
       "4  US/Eastern  [{u'name': u'Star Trek', u'urlkey': u'startrek...   \n",
       "\n",
       "                              urlname utc_offset visibility  \\\n",
       "0  The-New-York-City-Filmmakers-Group  -14400000    members   \n",
       "1                     entrepreneur-23  -14400000     public   \n",
       "2                       NYPhotoSafari  -14400000     public   \n",
       "3                Republican-Party-NYC  -14400000     public   \n",
       "4                          nystartrek  -14400000     public   \n",
       "\n",
       "                              who        age  \n",
       "0  DIRECTORS ACTORS SCREENWRITERS  433247869  \n",
       "1                   Entrepreneurs  433247869  \n",
       "2                   Photographers  433247869  \n",
       "3                     Republicans  433247869  \n",
       "4             Trekkies / Trekkers  433247866  \n",
       "\n",
       "[5 rows x 23 columns]"
      ]
     },
     "execution_count": 9,
     "metadata": {},
     "output_type": "execute_result"
    }
   ],
   "source": [
    "df.head()"
   ]
  },
  {
   "cell_type": "markdown",
   "metadata": {},
   "source": [
    "#### Ratings Exploration"
   ]
  },
  {
   "cell_type": "code",
   "execution_count": 10,
   "metadata": {
    "collapsed": false
   },
   "outputs": [
    {
     "data": {
      "text/plain": [
       "<matplotlib.text.Text at 0x119977090>"
      ]
     },
     "execution_count": 10,
     "metadata": {},
     "output_type": "execute_result"
    },
    {
     "data": {
      "image/png": "[encoded data removed]",
      "text/plain": [
       "<matplotlib.figure.Figure at 0x1197b47d0>"
      ]
     },
     "metadata": {},
     "output_type": "display_data"
    }
   ],
   "source": [
    "# Viewing a simple histogram of ratings\n",
    "\n",
    "sns.set_style(\"whitegrid\")\n",
    "plt.rcParams['figure.figsize'] = 9,9\n",
    "plt.hist(df['rating'], color ='#DD3D3E', bins = 30)\n",
    "plt.title('Ratings', fontsize=15)\n",
    "plt.xlabel('Ratings', fontsize=10)\n",
    "plt.ylabel('Count', fontsize=10)"
   ]
  },
  {
   "cell_type": "markdown",
   "metadata": {},
   "source": [
    "Two Things Stick Out:\n",
    "1. There are a lot of ratings between 4 and 5. Maybe the best way to handle them is scaling it down.\n",
    "2. There are a lot of 0 ratings for groups. Are the groups that bad? Maybe it is missing data or maybe the group is young and there wasn't enough members to rate it. One way to check to see if it is young is to see when the meetup was created."
   ]
  },
  {
   "cell_type": "code",
   "execution_count": 11,
   "metadata": {
    "collapsed": false
   },
   "outputs": [
    {
     "data": {
      "text/plain": [
       "(3828, 23)"
      ]
     },
     "execution_count": 11,
     "metadata": {},
     "output_type": "execute_result"
    }
   ],
   "source": [
    "# Filtering in where ratings equals 0 or NaN\n",
    "\n",
    "zero_df = df[df['rating']==0]\n",
    "zero_df.shape"
   ]
  },
  {
   "cell_type": "code",
   "execution_count": 12,
   "metadata": {
    "collapsed": false
   },
   "outputs": [
    {
     "data": {
      "text/plain": [
       "<matplotlib.text.Text at 0x11c7bbcd0>"
      ]
     },
     "execution_count": 12,
     "metadata": {},
     "output_type": "execute_result"
    },
    {
     "data": {
      "image/png": "[encoded data removed]",
      "text/plain": [
       "<matplotlib.figure.Figure at 0x11bc92a10>"
      ]
     },
     "metadata": {},
     "output_type": "display_data"
    }
   ],
   "source": [
    "# Histogram of the dates, ratings, members\n",
    "\n",
    "plt.subplot(221)\n",
    "sns.set_style(\"whitegrid\")\n",
    "plt.rcParams['figure.figsize'] = 9,9\n",
    "plt.hist(zero_df['age'], color ='#DD3D3E', bins = 10)\n",
    "plt.title('Epoch Time', fontsize=15)\n",
    "plt.xlabel('Time', fontsize=10)\n",
    "plt.ylabel('Count', fontsize=10)\n",
    "\n",
    "plt.subplot(222)\n",
    "sns.set_style(\"whitegrid\")\n",
    "plt.rcParams['figure.figsize'] = 9,9\n",
    "plt.hist(zero_df['members_'], color ='#DD3D3E', bins = 10)\n",
    "plt.title('Members', fontsize=15)\n",
    "plt.xlabel('Members', fontsize=10)\n",
    "plt.ylabel('Count', fontsize=10)\n",
    "\n",
    "plt.subplot(223)\n",
    "sns.set_style(\"whitegrid\")\n",
    "plt.rcParams['figure.figsize'] = 9,9\n",
    "plt.hist(df['age'], color ='#DD3D3E', bins = 10)\n",
    "plt.title('Epoch Time', fontsize=15)\n",
    "plt.xlabel('Time', fontsize=10)\n",
    "plt.ylabel('Count', fontsize=10)\n",
    "\n",
    "plt.subplot(224)\n",
    "sns.set_style(\"whitegrid\")\n",
    "plt.rcParams['figure.figsize'] = 9,9\n",
    "plt.hist(df['members_'], color ='#DD3D3E', bins = 10)\n",
    "plt.title('Members', fontsize=15)\n",
    "plt.xlabel('Members', fontsize=10)\n",
    "plt.ylabel('Count', fontsize=10)"
   ]
  },
  {
   "cell_type": "markdown",
   "metadata": {},
   "source": [
    "It seems that the zeros are there when the group is young and/or there are not enough members. Therefore I will leave the zero ratings alone. "
   ]
  },
  {
   "cell_type": "markdown",
   "metadata": {},
   "source": [
    "#### Topic Exploration"
   ]
  },
  {
   "cell_type": "markdown",
   "metadata": {},
   "source": [
    "Regarding topics, there are three features to analyze:\n",
    "1. category\n",
    "2. topics\n",
    "3. who"
   ]
  },
  {
   "cell_type": "code",
   "execution_count": 13,
   "metadata": {
    "collapsed": false
   },
   "outputs": [
    {
     "data": {
      "text/html": [
       "<div>\n",
       "<table border=\"1\" class=\"dataframe\">\n",
       "  <thead>\n",
       "    <tr style=\"text-align: right;\">\n",
       "      <th></th>\n",
       "      <th>category</th>\n",
       "      <th>topics</th>\n",
       "      <th>who</th>\n",
       "    </tr>\n",
       "  </thead>\n",
       "  <tbody>\n",
       "    <tr>\n",
       "      <th>0</th>\n",
       "      <td>{u'shortname': u'movies-film', u'name': u'movi...</td>\n",
       "      <td>[{u'name': u'Acting', u'urlkey': u'acting', u'...</td>\n",
       "      <td>DIRECTORS ACTORS SCREENWRITERS</td>\n",
       "    </tr>\n",
       "    <tr>\n",
       "      <th>1</th>\n",
       "      <td>{u'shortname': u'career-business', u'name': u'...</td>\n",
       "      <td>[{u'name': u'Small Business', u'urlkey': u'sma...</td>\n",
       "      <td>Entrepreneurs</td>\n",
       "    </tr>\n",
       "    <tr>\n",
       "      <th>2</th>\n",
       "      <td>{u'shortname': u'photography', u'name': u'phot...</td>\n",
       "      <td>[{u'name': u'Digital Photography', u'urlkey': ...</td>\n",
       "      <td>Photographers</td>\n",
       "    </tr>\n",
       "    <tr>\n",
       "      <th>3</th>\n",
       "      <td>{u'shortname': u'government-politics', u'name'...</td>\n",
       "      <td>[{u'name': u'Republican Party', u'urlkey': u'r...</td>\n",
       "      <td>Republicans</td>\n",
       "    </tr>\n",
       "    <tr>\n",
       "      <th>4</th>\n",
       "      <td>{u'shortname': u'sci-fi-fantasy', u'name': u's...</td>\n",
       "      <td>[{u'name': u'Star Trek', u'urlkey': u'startrek...</td>\n",
       "      <td>Trekkies / Trekkers</td>\n",
       "    </tr>\n",
       "  </tbody>\n",
       "</table>\n",
       "</div>"
      ],
      "text/plain": [
       "                                            category  \\\n",
       "0  {u'shortname': u'movies-film', u'name': u'movi...   \n",
       "1  {u'shortname': u'career-business', u'name': u'...   \n",
       "2  {u'shortname': u'photography', u'name': u'phot...   \n",
       "3  {u'shortname': u'government-politics', u'name'...   \n",
       "4  {u'shortname': u'sci-fi-fantasy', u'name': u's...   \n",
       "\n",
       "                                              topics  \\\n",
       "0  [{u'name': u'Acting', u'urlkey': u'acting', u'...   \n",
       "1  [{u'name': u'Small Business', u'urlkey': u'sma...   \n",
       "2  [{u'name': u'Digital Photography', u'urlkey': ...   \n",
       "3  [{u'name': u'Republican Party', u'urlkey': u'r...   \n",
       "4  [{u'name': u'Star Trek', u'urlkey': u'startrek...   \n",
       "\n",
       "                              who  \n",
       "0  DIRECTORS ACTORS SCREENWRITERS  \n",
       "1                   Entrepreneurs  \n",
       "2                   Photographers  \n",
       "3                     Republicans  \n",
       "4             Trekkies / Trekkers  "
      ]
     },
     "execution_count": 13,
     "metadata": {},
     "output_type": "execute_result"
    }
   ],
   "source": [
    "# Viewing those three categories\n",
    "\n",
    "df[['category','topics', 'who']].head()"
   ]
  },
  {
   "cell_type": "markdown",
   "metadata": {},
   "source": [
    "##### 1. Category"
   ]
  },
  {
   "cell_type": "markdown",
   "metadata": {},
   "source": [
    "Based on the info category contains, it seems like shortname is suffice to describe the 'category' feature"
   ]
  },
  {
   "cell_type": "code",
   "execution_count": 14,
   "metadata": {
    "collapsed": false
   },
   "outputs": [
    {
     "data": {
      "text/plain": [
       "\"{u'shortname': u'movies-film', u'name': u'movies/film', u'id': 20}\""
      ]
     },
     "execution_count": 14,
     "metadata": {},
     "output_type": "execute_result"
    }
   ],
   "source": [
    "# Viewing how category looks\n",
    "\n",
    "df['category'][0]"
   ]
  },
  {
   "cell_type": "code",
   "execution_count": 15,
   "metadata": {
    "collapsed": true
   },
   "outputs": [],
   "source": [
    "# Create function to extract shortname from category\n",
    "\n",
    "from ast import literal_eval\n",
    "\n",
    "def short(x):\n",
    "    try:\n",
    "        return literal_eval(x['category'])['shortname'].encode('ascii', errors='ignore')\n",
    "    except:\n",
    "        return 'NaN'"
   ]
  },
  {
   "cell_type": "code",
   "execution_count": 16,
   "metadata": {
    "collapsed": true
   },
   "outputs": [],
   "source": [
    "# Creating a shortname feature\n",
    "\n",
    "df['shortname'] = df.apply(short, axis=1)"
   ]
  },
  {
   "cell_type": "code",
   "execution_count": 17,
   "metadata": {
    "collapsed": false
   },
   "outputs": [
    {
     "data": {
      "text/plain": [
       "34"
      ]
     },
     "execution_count": 17,
     "metadata": {},
     "output_type": "execute_result"
    }
   ],
   "source": [
    "# Viewing how many unique shortnames there are\n",
    "\n",
    "len(df['shortname'].unique())"
   ]
  },
  {
   "cell_type": "markdown",
   "metadata": {},
   "source": [
    "Since there are 34 unique values, then I might be able to dummify them before applying into an algorithm"
   ]
  },
  {
   "cell_type": "code",
   "execution_count": 18,
   "metadata": {
    "collapsed": false
   },
   "outputs": [
    {
     "data": {
      "text/html": [
       "<div>\n",
       "<table border=\"1\" class=\"dataframe\">\n",
       "  <thead>\n",
       "    <tr style=\"text-align: right;\">\n",
       "      <th></th>\n",
       "      <th>category</th>\n",
       "      <th>city</th>\n",
       "      <th>country</th>\n",
       "      <th>created</th>\n",
       "      <th>description</th>\n",
       "      <th>group_photo</th>\n",
       "      <th>id</th>\n",
       "      <th>join_mode</th>\n",
       "      <th>lat</th>\n",
       "      <th>link</th>\n",
       "      <th>...</th>\n",
       "      <th>rating</th>\n",
       "      <th>state</th>\n",
       "      <th>timezone</th>\n",
       "      <th>topics</th>\n",
       "      <th>urlname</th>\n",
       "      <th>utc_offset</th>\n",
       "      <th>visibility</th>\n",
       "      <th>who</th>\n",
       "      <th>age</th>\n",
       "      <th>shortname</th>\n",
       "    </tr>\n",
       "  </thead>\n",
       "  <tbody>\n",
       "    <tr>\n",
       "      <th>136</th>\n",
       "      <td>NaN</td>\n",
       "      <td>New York</td>\n",
       "      <td>US</td>\n",
       "      <td>1093281539</td>\n",
       "      <td>&lt;p&gt;&lt;strong&gt;JOIN US for good weather monthly ga...</td>\n",
       "      <td>{u'thumb_link': u'http://photos1.meetupstatic....</td>\n",
       "      <td>16620</td>\n",
       "      <td>approval</td>\n",
       "      <td>40.730000</td>\n",
       "      <td>http://www.meetup.com/basenji-nyc/</td>\n",
       "      <td>...</td>\n",
       "      <td>4.83</td>\n",
       "      <td>NY</td>\n",
       "      <td>US/Eastern</td>\n",
       "      <td>[{u'name': u'Basenji', u'urlkey': u'basenji', ...</td>\n",
       "      <td>basenji-nyc</td>\n",
       "      <td>-14400000</td>\n",
       "      <td>public</td>\n",
       "      <td>Basenji Lovers</td>\n",
       "      <td>374064061</td>\n",
       "      <td>NaN</td>\n",
       "    </tr>\n",
       "    <tr>\n",
       "      <th>2440</th>\n",
       "      <td>NaN</td>\n",
       "      <td>Hermosa Beach</td>\n",
       "      <td>US</td>\n",
       "      <td>1254787287</td>\n",
       "      <td>To find out about the lineage of the Mazurchuks</td>\n",
       "      <td>{u'thumb_link': u'http://photos2.meetupstatic....</td>\n",
       "      <td>1535497</td>\n",
       "      <td>approval</td>\n",
       "      <td>33.869999</td>\n",
       "      <td>http://www.meetup.com/Mazurchuck-Geneology/</td>\n",
       "      <td>...</td>\n",
       "      <td>0.00</td>\n",
       "      <td>CA</td>\n",
       "      <td>US/Pacific</td>\n",
       "      <td>[{u'name': u'Genealogy', u'urlkey': u'genealog...</td>\n",
       "      <td>Mazurchuck-Geneology</td>\n",
       "      <td>-25200000</td>\n",
       "      <td>public_limited</td>\n",
       "      <td>Members</td>\n",
       "      <td>212558313</td>\n",
       "      <td>NaN</td>\n",
       "    </tr>\n",
       "    <tr>\n",
       "      <th>3157</th>\n",
       "      <td>NaN</td>\n",
       "      <td>Los Angeles</td>\n",
       "      <td>US</td>\n",
       "      <td>1375906810</td>\n",
       "      <td>&lt;p&gt;&lt;strong&gt;아이(들)을 혼자 양육하는 엄마/아빠들의 모임&lt;/strong&gt;&lt;...</td>\n",
       "      <td>{u'thumb_link': u'http://photos4.meetupstatic....</td>\n",
       "      <td>9710152</td>\n",
       "      <td>approval</td>\n",
       "      <td>34.049999</td>\n",
       "      <td>http://www.meetup.com/korean-single-mom-and-dad/</td>\n",
       "      <td>...</td>\n",
       "      <td>5.00</td>\n",
       "      <td>CA</td>\n",
       "      <td>US/Pacific</td>\n",
       "      <td>[{u'name': u'Parents', u'urlkey': u'parents', ...</td>\n",
       "      <td>korean-single-mom-and-dad</td>\n",
       "      <td>-25200000</td>\n",
       "      <td>public</td>\n",
       "      <td>님</td>\n",
       "      <td>91438790</td>\n",
       "      <td>NaN</td>\n",
       "    </tr>\n",
       "    <tr>\n",
       "      <th>3286</th>\n",
       "      <td>NaN</td>\n",
       "      <td>Long Beach</td>\n",
       "      <td>US</td>\n",
       "      <td>1389638324</td>\n",
       "      <td>&lt;p&gt;This group is for movie buffs in Long Beach...</td>\n",
       "      <td>{u'thumb_link': u'http://photos3.meetupstatic....</td>\n",
       "      <td>12083172</td>\n",
       "      <td>open</td>\n",
       "      <td>33.830002</td>\n",
       "      <td>http://www.meetup.com/Long-Beach-Movie-Meetup/</td>\n",
       "      <td>...</td>\n",
       "      <td>4.00</td>\n",
       "      <td>CA</td>\n",
       "      <td>US/Pacific</td>\n",
       "      <td>[{u'name': u'Watching Movies', u'urlkey': u'mo...</td>\n",
       "      <td>Long-Beach-Movie-Meetup</td>\n",
       "      <td>-25200000</td>\n",
       "      <td>public</td>\n",
       "      <td>Movie Monsters</td>\n",
       "      <td>77707276</td>\n",
       "      <td>NaN</td>\n",
       "    </tr>\n",
       "    <tr>\n",
       "      <th>3949</th>\n",
       "      <td>NaN</td>\n",
       "      <td>Los Angeles</td>\n",
       "      <td>US</td>\n",
       "      <td>1427461885</td>\n",
       "      <td>&lt;p&gt;This is a group for people who are passiona...</td>\n",
       "      <td>{u'thumb_link': u'http://photos4.meetupstatic....</td>\n",
       "      <td>18522304</td>\n",
       "      <td>open</td>\n",
       "      <td>33.970001</td>\n",
       "      <td>http://www.meetup.com/LA-Software-Workshops/</td>\n",
       "      <td>...</td>\n",
       "      <td>4.96</td>\n",
       "      <td>CA</td>\n",
       "      <td>US/Pacific</td>\n",
       "      <td>[{u'name': u'Open Source', u'urlkey': u'openso...</td>\n",
       "      <td>LA-Software-Workshops</td>\n",
       "      <td>-25200000</td>\n",
       "      <td>public</td>\n",
       "      <td>polyglots</td>\n",
       "      <td>39883715</td>\n",
       "      <td>NaN</td>\n",
       "    </tr>\n",
       "    <tr>\n",
       "      <th>4717</th>\n",
       "      <td>NaN</td>\n",
       "      <td>Chicago</td>\n",
       "      <td>US</td>\n",
       "      <td>1269393143</td>\n",
       "      <td>Meet with other SonicWALL partners, administra...</td>\n",
       "      <td>{u'thumb_link': u'http://photos1.meetupstatic....</td>\n",
       "      <td>1619461</td>\n",
       "      <td>open</td>\n",
       "      <td>41.880001</td>\n",
       "      <td>http://www.meetup.com/Chicago-SonicWALL/</td>\n",
       "      <td>...</td>\n",
       "      <td>4.42</td>\n",
       "      <td>IL</td>\n",
       "      <td>US/Central</td>\n",
       "      <td>[{u'name': u'Network Security', u'urlkey': u'n...</td>\n",
       "      <td>Chicago-SonicWALL</td>\n",
       "      <td>-18000000</td>\n",
       "      <td>public</td>\n",
       "      <td>Members</td>\n",
       "      <td>197952457</td>\n",
       "      <td>NaN</td>\n",
       "    </tr>\n",
       "    <tr>\n",
       "      <th>4983</th>\n",
       "      <td>NaN</td>\n",
       "      <td>Chicago</td>\n",
       "      <td>US</td>\n",
       "      <td>1328136570</td>\n",
       "      <td>&lt;p&gt;We are a group of lay men and women and pro...</td>\n",
       "      <td>{u'thumb_link': u'http://photos3.meetupstatic....</td>\n",
       "      <td>3216812</td>\n",
       "      <td>open</td>\n",
       "      <td>41.970001</td>\n",
       "      <td>http://www.meetup.com/Community-of-Passionist-...</td>\n",
       "      <td>...</td>\n",
       "      <td>4.41</td>\n",
       "      <td>IL</td>\n",
       "      <td>US/Central</td>\n",
       "      <td>[{u'name': u'Develop Love and Compassion', u'u...</td>\n",
       "      <td>Community-of-Passionist-Partners</td>\n",
       "      <td>-18000000</td>\n",
       "      <td>public</td>\n",
       "      <td>Passionist Partners</td>\n",
       "      <td>139209030</td>\n",
       "      <td>NaN</td>\n",
       "    </tr>\n",
       "    <tr>\n",
       "      <th>7446</th>\n",
       "      <td>NaN</td>\n",
       "      <td>Tempe</td>\n",
       "      <td>US</td>\n",
       "      <td>1267024117</td>\n",
       "      <td>Meet with other SonicWALL partners, administra...</td>\n",
       "      <td>{u'thumb_link': u'http://photos3.meetupstatic....</td>\n",
       "      <td>1604420</td>\n",
       "      <td>open</td>\n",
       "      <td>33.389999</td>\n",
       "      <td>http://www.meetup.com/Phoenix-SonicWALL/</td>\n",
       "      <td>...</td>\n",
       "      <td>4.67</td>\n",
       "      <td>AZ</td>\n",
       "      <td>US/Arizona</td>\n",
       "      <td>[{u'name': u'Network Security', u'urlkey': u'n...</td>\n",
       "      <td>Phoenix-SonicWALL</td>\n",
       "      <td>-25200000</td>\n",
       "      <td>public</td>\n",
       "      <td>Members</td>\n",
       "      <td>200321483</td>\n",
       "      <td>NaN</td>\n",
       "    </tr>\n",
       "    <tr>\n",
       "      <th>7851</th>\n",
       "      <td>NaN</td>\n",
       "      <td>Phoenix</td>\n",
       "      <td>US</td>\n",
       "      <td>1394916810</td>\n",
       "      <td>&lt;p&gt;Yappee Hour, for discerning Pet Parents and...</td>\n",
       "      <td>NaN</td>\n",
       "      <td>13361152</td>\n",
       "      <td>open</td>\n",
       "      <td>33.500000</td>\n",
       "      <td>http://www.meetup.com/YappeeHour-Pet-Parents-M...</td>\n",
       "      <td>...</td>\n",
       "      <td>4.33</td>\n",
       "      <td>AZ</td>\n",
       "      <td>US/Arizona</td>\n",
       "      <td>[{u'name': u'Social Networking', u'urlkey': u'...</td>\n",
       "      <td>YappeeHour-Pet-Parents-Meetup</td>\n",
       "      <td>-25200000</td>\n",
       "      <td>public</td>\n",
       "      <td>Members</td>\n",
       "      <td>72428790</td>\n",
       "      <td>NaN</td>\n",
       "    </tr>\n",
       "    <tr>\n",
       "      <th>9481</th>\n",
       "      <td>NaN</td>\n",
       "      <td>Philadelphia</td>\n",
       "      <td>US</td>\n",
       "      <td>1462283298</td>\n",
       "      <td>&lt;p&gt;We're people who got tired of networking ev...</td>\n",
       "      <td>NaN</td>\n",
       "      <td>19911375</td>\n",
       "      <td>open</td>\n",
       "      <td>40.119999</td>\n",
       "      <td>http://www.meetup.com/Startup-Climbing-Philly/</td>\n",
       "      <td>...</td>\n",
       "      <td>0.00</td>\n",
       "      <td>PA</td>\n",
       "      <td>US/Eastern</td>\n",
       "      <td>[{u'name': u'Fitness', u'urlkey': u'fitness', ...</td>\n",
       "      <td>Startup-Climbing-Philly</td>\n",
       "      <td>-14400000</td>\n",
       "      <td>public</td>\n",
       "      <td>Climbers</td>\n",
       "      <td>5062302</td>\n",
       "      <td>NaN</td>\n",
       "    </tr>\n",
       "    <tr>\n",
       "      <th>10599</th>\n",
       "      <td>NaN</td>\n",
       "      <td>San Diego</td>\n",
       "      <td>US</td>\n",
       "      <td>1260426952</td>\n",
       "      <td>The Class of 1959 from St. Augustine High Scho...</td>\n",
       "      <td>{u'thumb_link': u'http://photos2.meetupstatic....</td>\n",
       "      <td>1567766</td>\n",
       "      <td>approval</td>\n",
       "      <td>32.740002</td>\n",
       "      <td>http://www.meetup.com/Saints-Class-of-1959/</td>\n",
       "      <td>...</td>\n",
       "      <td>4.25</td>\n",
       "      <td>CA</td>\n",
       "      <td>US/Pacific</td>\n",
       "      <td>[{u'name': u'Saints '59 Gathering:  Breakfast/...</td>\n",
       "      <td>Saints-Class-of-1959</td>\n",
       "      <td>-25200000</td>\n",
       "      <td>members</td>\n",
       "      <td>Saintsmen</td>\n",
       "      <td>206918648</td>\n",
       "      <td>NaN</td>\n",
       "    </tr>\n",
       "    <tr>\n",
       "      <th>11798</th>\n",
       "      <td>NaN</td>\n",
       "      <td>San Diego</td>\n",
       "      <td>US</td>\n",
       "      <td>1438890373</td>\n",
       "      <td>&lt;p&gt;San Diego is an outdoorsy city, but this is...</td>\n",
       "      <td>NaN</td>\n",
       "      <td>18808412</td>\n",
       "      <td>approval</td>\n",
       "      <td>32.759998</td>\n",
       "      <td>http://www.meetup.com/Knitting-Ladies-with-awe...</td>\n",
       "      <td>...</td>\n",
       "      <td>0.00</td>\n",
       "      <td>CA</td>\n",
       "      <td>US/Pacific</td>\n",
       "      <td>[{u'name': u'test mug', u'urlkey': u'test-mug'...</td>\n",
       "      <td>Knitting-Ladies-with-awesome-hands</td>\n",
       "      <td>-25200000</td>\n",
       "      <td>public_limited</td>\n",
       "      <td>Members</td>\n",
       "      <td>28455227</td>\n",
       "      <td>NaN</td>\n",
       "    </tr>\n",
       "    <tr>\n",
       "      <th>14198</th>\n",
       "      <td>NaN</td>\n",
       "      <td>San Jose</td>\n",
       "      <td>US</td>\n",
       "      <td>1275945038</td>\n",
       "      <td>&lt;p&gt;&lt;strong&gt;This is an invitation only reciproc...</td>\n",
       "      <td>{u'thumb_link': u'http://photos3.meetupstatic....</td>\n",
       "      <td>1657566</td>\n",
       "      <td>approval</td>\n",
       "      <td>37.290001</td>\n",
       "      <td>http://www.meetup.com/The-VIP-List/</td>\n",
       "      <td>...</td>\n",
       "      <td>4.94</td>\n",
       "      <td>CA</td>\n",
       "      <td>US/Pacific</td>\n",
       "      <td>[{u'name': u'thrx', u'urlkey': u'thrx', u'id':...</td>\n",
       "      <td>The-VIP-List</td>\n",
       "      <td>-25200000</td>\n",
       "      <td>public_limited</td>\n",
       "      <td>VIP's</td>\n",
       "      <td>191400562</td>\n",
       "      <td>NaN</td>\n",
       "    </tr>\n",
       "    <tr>\n",
       "      <th>15275</th>\n",
       "      <td>NaN</td>\n",
       "      <td>Santa Clara</td>\n",
       "      <td>US</td>\n",
       "      <td>1421243893</td>\n",
       "      <td>&lt;p&gt;Join&amp;nbsp;the JFrog Silicon Valley Meetup G...</td>\n",
       "      <td>NaN</td>\n",
       "      <td>18334132</td>\n",
       "      <td>open</td>\n",
       "      <td>37.349998</td>\n",
       "      <td>http://www.meetup.com/JFrog-Meetups/</td>\n",
       "      <td>...</td>\n",
       "      <td>5.00</td>\n",
       "      <td>CA</td>\n",
       "      <td>US/Pacific</td>\n",
       "      <td>[{u'name': u'Java', u'urlkey': u'java', u'id':...</td>\n",
       "      <td>JFrog-Meetups</td>\n",
       "      <td>-25200000</td>\n",
       "      <td>public</td>\n",
       "      <td>Members</td>\n",
       "      <td>46101707</td>\n",
       "      <td>NaN</td>\n",
       "    </tr>\n",
       "    <tr>\n",
       "      <th>15287</th>\n",
       "      <td>NaN</td>\n",
       "      <td>San Jose</td>\n",
       "      <td>US</td>\n",
       "      <td>1422052230</td>\n",
       "      <td>&lt;p&gt;Private Group - Membership is by Invitation...</td>\n",
       "      <td>NaN</td>\n",
       "      <td>18371940</td>\n",
       "      <td>approval</td>\n",
       "      <td>37.349998</td>\n",
       "      <td>http://www.meetup.com/Private-Group-By-Invitat...</td>\n",
       "      <td>...</td>\n",
       "      <td>5.00</td>\n",
       "      <td>CA</td>\n",
       "      <td>US/Pacific</td>\n",
       "      <td>[{u'name': u'Stuff', u'urlkey': u'stuff', u'id...</td>\n",
       "      <td>Private-Group-By-Invitation-Only</td>\n",
       "      <td>-25200000</td>\n",
       "      <td>public_limited</td>\n",
       "      <td>Members</td>\n",
       "      <td>45293370</td>\n",
       "      <td>NaN</td>\n",
       "    </tr>\n",
       "    <tr>\n",
       "      <th>15479</th>\n",
       "      <td>NaN</td>\n",
       "      <td>Mountain View</td>\n",
       "      <td>US</td>\n",
       "      <td>1431543479</td>\n",
       "      <td>&lt;p&gt;We'll discuss data engineering and data sci...</td>\n",
       "      <td>NaN</td>\n",
       "      <td>18595535</td>\n",
       "      <td>open</td>\n",
       "      <td>37.380001</td>\n",
       "      <td>http://www.meetup.com/SV-Data-Engineering/</td>\n",
       "      <td>...</td>\n",
       "      <td>5.00</td>\n",
       "      <td>CA</td>\n",
       "      <td>US/Pacific</td>\n",
       "      <td>[{u'name': u'Open Source', u'urlkey': u'openso...</td>\n",
       "      <td>SV-Data-Engineering</td>\n",
       "      <td>-25200000</td>\n",
       "      <td>public</td>\n",
       "      <td>Data Lovers</td>\n",
       "      <td>35802121</td>\n",
       "      <td>NaN</td>\n",
       "    </tr>\n",
       "  </tbody>\n",
       "</table>\n",
       "<p>16 rows × 24 columns</p>\n",
       "</div>"
      ],
      "text/plain": [
       "      category           city country     created  \\\n",
       "136        NaN       New York      US  1093281539   \n",
       "2440       NaN  Hermosa Beach      US  1254787287   \n",
       "3157       NaN    Los Angeles      US  1375906810   \n",
       "3286       NaN     Long Beach      US  1389638324   \n",
       "3949       NaN    Los Angeles      US  1427461885   \n",
       "4717       NaN        Chicago      US  1269393143   \n",
       "4983       NaN        Chicago      US  1328136570   \n",
       "7446       NaN          Tempe      US  1267024117   \n",
       "7851       NaN        Phoenix      US  1394916810   \n",
       "9481       NaN   Philadelphia      US  1462283298   \n",
       "10599      NaN      San Diego      US  1260426952   \n",
       "11798      NaN      San Diego      US  1438890373   \n",
       "14198      NaN       San Jose      US  1275945038   \n",
       "15275      NaN    Santa Clara      US  1421243893   \n",
       "15287      NaN       San Jose      US  1422052230   \n",
       "15479      NaN  Mountain View      US  1431543479   \n",
       "\n",
       "                                             description  \\\n",
       "136    <p><strong>JOIN US for good weather monthly ga...   \n",
       "2440     To find out about the lineage of the Mazurchuks   \n",
       "3157   <p><strong>아이(들)을 혼자 양육하는 엄마/아빠들의 모임</strong><...   \n",
       "3286   <p>This group is for movie buffs in Long Beach...   \n",
       "3949   <p>This is a group for people who are passiona...   \n",
       "4717   Meet with other SonicWALL partners, administra...   \n",
       "4983   <p>We are a group of lay men and women and pro...   \n",
       "7446   Meet with other SonicWALL partners, administra...   \n",
       "7851   <p>Yappee Hour, for discerning Pet Parents and...   \n",
       "9481   <p>We're people who got tired of networking ev...   \n",
       "10599  The Class of 1959 from St. Augustine High Scho...   \n",
       "11798  <p>San Diego is an outdoorsy city, but this is...   \n",
       "14198  <p><strong>This is an invitation only reciproc...   \n",
       "15275  <p>Join&nbsp;the JFrog Silicon Valley Meetup G...   \n",
       "15287  <p>Private Group - Membership is by Invitation...   \n",
       "15479  <p>We'll discuss data engineering and data sci...   \n",
       "\n",
       "                                             group_photo        id join_mode  \\\n",
       "136    {u'thumb_link': u'http://photos1.meetupstatic....     16620  approval   \n",
       "2440   {u'thumb_link': u'http://photos2.meetupstatic....   1535497  approval   \n",
       "3157   {u'thumb_link': u'http://photos4.meetupstatic....   9710152  approval   \n",
       "3286   {u'thumb_link': u'http://photos3.meetupstatic....  12083172      open   \n",
       "3949   {u'thumb_link': u'http://photos4.meetupstatic....  18522304      open   \n",
       "4717   {u'thumb_link': u'http://photos1.meetupstatic....   1619461      open   \n",
       "4983   {u'thumb_link': u'http://photos3.meetupstatic....   3216812      open   \n",
       "7446   {u'thumb_link': u'http://photos3.meetupstatic....   1604420      open   \n",
       "7851                                                 NaN  13361152      open   \n",
       "9481                                                 NaN  19911375      open   \n",
       "10599  {u'thumb_link': u'http://photos2.meetupstatic....   1567766  approval   \n",
       "11798                                                NaN  18808412  approval   \n",
       "14198  {u'thumb_link': u'http://photos3.meetupstatic....   1657566  approval   \n",
       "15275                                                NaN  18334132      open   \n",
       "15287                                                NaN  18371940  approval   \n",
       "15479                                                NaN  18595535      open   \n",
       "\n",
       "             lat                                               link  \\\n",
       "136    40.730000                 http://www.meetup.com/basenji-nyc/   \n",
       "2440   33.869999        http://www.meetup.com/Mazurchuck-Geneology/   \n",
       "3157   34.049999   http://www.meetup.com/korean-single-mom-and-dad/   \n",
       "3286   33.830002     http://www.meetup.com/Long-Beach-Movie-Meetup/   \n",
       "3949   33.970001       http://www.meetup.com/LA-Software-Workshops/   \n",
       "4717   41.880001           http://www.meetup.com/Chicago-SonicWALL/   \n",
       "4983   41.970001  http://www.meetup.com/Community-of-Passionist-...   \n",
       "7446   33.389999           http://www.meetup.com/Phoenix-SonicWALL/   \n",
       "7851   33.500000  http://www.meetup.com/YappeeHour-Pet-Parents-M...   \n",
       "9481   40.119999     http://www.meetup.com/Startup-Climbing-Philly/   \n",
       "10599  32.740002        http://www.meetup.com/Saints-Class-of-1959/   \n",
       "11798  32.759998  http://www.meetup.com/Knitting-Ladies-with-awe...   \n",
       "14198  37.290001                http://www.meetup.com/The-VIP-List/   \n",
       "15275  37.349998               http://www.meetup.com/JFrog-Meetups/   \n",
       "15287  37.349998  http://www.meetup.com/Private-Group-By-Invitat...   \n",
       "15479  37.380001         http://www.meetup.com/SV-Data-Engineering/   \n",
       "\n",
       "         ...      rating  state    timezone  \\\n",
       "136      ...        4.83     NY  US/Eastern   \n",
       "2440     ...        0.00     CA  US/Pacific   \n",
       "3157     ...        5.00     CA  US/Pacific   \n",
       "3286     ...        4.00     CA  US/Pacific   \n",
       "3949     ...        4.96     CA  US/Pacific   \n",
       "4717     ...        4.42     IL  US/Central   \n",
       "4983     ...        4.41     IL  US/Central   \n",
       "7446     ...        4.67     AZ  US/Arizona   \n",
       "7851     ...        4.33     AZ  US/Arizona   \n",
       "9481     ...        0.00     PA  US/Eastern   \n",
       "10599    ...        4.25     CA  US/Pacific   \n",
       "11798    ...        0.00     CA  US/Pacific   \n",
       "14198    ...        4.94     CA  US/Pacific   \n",
       "15275    ...        5.00     CA  US/Pacific   \n",
       "15287    ...        5.00     CA  US/Pacific   \n",
       "15479    ...        5.00     CA  US/Pacific   \n",
       "\n",
       "                                                  topics  \\\n",
       "136    [{u'name': u'Basenji', u'urlkey': u'basenji', ...   \n",
       "2440   [{u'name': u'Genealogy', u'urlkey': u'genealog...   \n",
       "3157   [{u'name': u'Parents', u'urlkey': u'parents', ...   \n",
       "3286   [{u'name': u'Watching Movies', u'urlkey': u'mo...   \n",
       "3949   [{u'name': u'Open Source', u'urlkey': u'openso...   \n",
       "4717   [{u'name': u'Network Security', u'urlkey': u'n...   \n",
       "4983   [{u'name': u'Develop Love and Compassion', u'u...   \n",
       "7446   [{u'name': u'Network Security', u'urlkey': u'n...   \n",
       "7851   [{u'name': u'Social Networking', u'urlkey': u'...   \n",
       "9481   [{u'name': u'Fitness', u'urlkey': u'fitness', ...   \n",
       "10599  [{u'name': u'Saints '59 Gathering:  Breakfast/...   \n",
       "11798  [{u'name': u'test mug', u'urlkey': u'test-mug'...   \n",
       "14198  [{u'name': u'thrx', u'urlkey': u'thrx', u'id':...   \n",
       "15275  [{u'name': u'Java', u'urlkey': u'java', u'id':...   \n",
       "15287  [{u'name': u'Stuff', u'urlkey': u'stuff', u'id...   \n",
       "15479  [{u'name': u'Open Source', u'urlkey': u'openso...   \n",
       "\n",
       "                                  urlname utc_offset      visibility  \\\n",
       "136                           basenji-nyc  -14400000          public   \n",
       "2440                 Mazurchuck-Geneology  -25200000  public_limited   \n",
       "3157            korean-single-mom-and-dad  -25200000          public   \n",
       "3286              Long-Beach-Movie-Meetup  -25200000          public   \n",
       "3949                LA-Software-Workshops  -25200000          public   \n",
       "4717                    Chicago-SonicWALL  -18000000          public   \n",
       "4983     Community-of-Passionist-Partners  -18000000          public   \n",
       "7446                    Phoenix-SonicWALL  -25200000          public   \n",
       "7851        YappeeHour-Pet-Parents-Meetup  -25200000          public   \n",
       "9481              Startup-Climbing-Philly  -14400000          public   \n",
       "10599                Saints-Class-of-1959  -25200000         members   \n",
       "11798  Knitting-Ladies-with-awesome-hands  -25200000  public_limited   \n",
       "14198                        The-VIP-List  -25200000  public_limited   \n",
       "15275                       JFrog-Meetups  -25200000          public   \n",
       "15287    Private-Group-By-Invitation-Only  -25200000  public_limited   \n",
       "15479                 SV-Data-Engineering  -25200000          public   \n",
       "\n",
       "                       who        age  shortname  \n",
       "136         Basenji Lovers  374064061        NaN  \n",
       "2440               Members  212558313        NaN  \n",
       "3157                     님   91438790        NaN  \n",
       "3286        Movie Monsters   77707276        NaN  \n",
       "3949             polyglots   39883715        NaN  \n",
       "4717               Members  197952457        NaN  \n",
       "4983   Passionist Partners  139209030        NaN  \n",
       "7446               Members  200321483        NaN  \n",
       "7851               Members   72428790        NaN  \n",
       "9481              Climbers    5062302        NaN  \n",
       "10599            Saintsmen  206918648        NaN  \n",
       "11798              Members   28455227        NaN  \n",
       "14198                VIP's  191400562        NaN  \n",
       "15275              Members   46101707        NaN  \n",
       "15287              Members   45293370        NaN  \n",
       "15479          Data Lovers   35802121        NaN  \n",
       "\n",
       "[16 rows x 24 columns]"
      ]
     },
     "execution_count": 18,
     "metadata": {},
     "output_type": "execute_result"
    }
   ],
   "source": [
    "# Checking to see how many NaN are there in 'shortname'\n",
    "\n",
    "df[df['shortname']=='NaN']"
   ]
  },
  {
   "cell_type": "markdown",
   "metadata": {},
   "source": [
    "Since there are 16 'NaN' out of ~16,000, then it will be safe to randomly insert categories"
   ]
  },
  {
   "cell_type": "code",
   "execution_count": 19,
   "metadata": {
    "collapsed": false
   },
   "outputs": [],
   "source": [
    "# Remove the 'NaN' in df\n",
    "\n",
    "names = list(set(df['shortname']))\n",
    "\n",
    "def fill_na(x):\n",
    "    if x['shortname'] == 'NaN':\n",
    "        return np.random.choice(names)\n",
    "    else:\n",
    "        return x['shortname']"
   ]
  },
  {
   "cell_type": "code",
   "execution_count": 20,
   "metadata": {
    "collapsed": true
   },
   "outputs": [],
   "source": [
    "# Applying function fill_na to df\n",
    "\n",
    "df['shortname'] = df.apply(fill_na, axis = 1)"
   ]
  },
  {
   "cell_type": "code",
   "execution_count": 21,
   "metadata": {
    "collapsed": false
   },
   "outputs": [],
   "source": [
    "# Grouping by 'shortname'\n",
    "\n",
    "category = df[['shortname', 'rating', 'members_']].sort_values(['members_']).groupby('shortname', sort=False).sum()"
   ]
  },
  {
   "cell_type": "code",
   "execution_count": 22,
   "metadata": {
    "collapsed": false
   },
   "outputs": [
    {
     "data": {
      "text/plain": [
       "<matplotlib.text.Text at 0x11cf4be10>"
      ]
     },
     "execution_count": 22,
     "metadata": {},
     "output_type": "execute_result"
    },
    {
     "data": {
      "image/png": "[encoded data removed]",
      "text/plain": [
       "<matplotlib.figure.Figure at 0x1194bb710>"
      ]
     },
     "metadata": {},
     "output_type": "display_data"
    }
   ],
   "source": [
    "# Plot ratings for each category\n",
    "\n",
    "sns.set_style(\"whitegrid\")\n",
    "plt.rcParams['figure.figsize'] = 9,9\n",
    "sns.barplot(x=category['members_'], y=category.index, orient = 'h', color ='#DD3D3E')\n",
    "plt.title('Members by Category', fontsize=20)\n",
    "plt.xlabel('Members', fontsize=15)\n",
    "plt.ylabel('Categories', fontsize=15)"
   ]
  },
  {
   "cell_type": "markdown",
   "metadata": {},
   "source": [
    "##### Topics"
   ]
  },
  {
   "cell_type": "markdown",
   "metadata": {},
   "source": [
    "There seems to be an issue with the single quotes within each row. The function I created was not enough. With the time constraint, I will skip the topic feature for now."
   ]
  },
  {
   "cell_type": "code",
   "execution_count": 23,
   "metadata": {
    "collapsed": false
   },
   "outputs": [
    {
     "data": {
      "text/plain": [
       "\"[{u'name': u'Acting', u'urlkey': u'acting', u'id': 226}, {u'name': u'Film Industry', u'urlkey': u'filmind', u'id': 382}, {u'name': u'Screenwriting', u'urlkey': u'screenwriters', u'id': 567}, {u'name': u'Indie Films', u'urlkey': u'indiefilm', u'id': 914}, {u'name': u'Social Networking', u'urlkey': u'socialnetwork', u'id': 4422}, {u'name': u'Entertainment Industry', u'urlkey': u'entertain', u'id': 10269}, {u'name': u'Writing', u'urlkey': u'writing', u'id': 16728}]\""
      ]
     },
     "execution_count": 23,
     "metadata": {},
     "output_type": "execute_result"
    }
   ],
   "source": [
    "# Viewing how topic looks\n",
    "\n",
    "df['topics'][0]"
   ]
  },
  {
   "cell_type": "code",
   "execution_count": null,
   "metadata": {
    "collapsed": false
   },
   "outputs": [],
   "source": [
    "literal_eval(df['topics'][0])"
   ]
  },
  {
   "cell_type": "code",
   "execution_count": null,
   "metadata": {
    "collapsed": true
   },
   "outputs": [],
   "source": [
    "# Create function to create a list of topics\n",
    "\n",
    "def topic(x):\n",
    "    return [d['name'].encode('ascii', errors='ignore') for d in literal_eval(x['topics'])]"
   ]
  },
  {
   "cell_type": "code",
   "execution_count": null,
   "metadata": {
    "collapsed": false
   },
   "outputs": [],
   "source": [
    "# Apply topic to the topics column\n",
    "\n",
    "df['list_topics'] = df.apply(topic, axis=1)"
   ]
  },
  {
   "cell_type": "markdown",
   "metadata": {},
   "source": [
    "##### Who"
   ]
  },
  {
   "cell_type": "code",
   "execution_count": 24,
   "metadata": {
    "collapsed": true
   },
   "outputs": [],
   "source": [
    "# Lower the words in who\n",
    "\n",
    "def str_(x):\n",
    "    try: \n",
    "        return x['who'].encode('ascii', errors='ignore').lower().split()\n",
    "    except:\n",
    "        return [str(x['who'])]"
   ]
  },
  {
   "cell_type": "code",
   "execution_count": 25,
   "metadata": {
    "collapsed": true
   },
   "outputs": [],
   "source": [
    "# Convert string in who into a list\n",
    "\n",
    "df['who']=df.apply(str_,axis=1)"
   ]
  },
  {
   "cell_type": "code",
   "execution_count": 32,
   "metadata": {
    "collapsed": true
   },
   "outputs": [],
   "source": [
    "# Remove the punctuation from the who column\n",
    "\n",
    "for ind, elem in enumerate(df['who']):\n",
    "    for i in elem:\n",
    "        if i in punctuation:\n",
    "            elem.remove(i)"
   ]
  },
  {
   "cell_type": "code",
   "execution_count": 33,
   "metadata": {
    "collapsed": false
   },
   "outputs": [
    {
     "data": {
      "text/html": [
       "<div>\n",
       "<table border=\"1\" class=\"dataframe\">\n",
       "  <thead>\n",
       "    <tr style=\"text-align: right;\">\n",
       "      <th></th>\n",
       "      <th>category</th>\n",
       "      <th>city</th>\n",
       "      <th>country</th>\n",
       "      <th>created</th>\n",
       "      <th>description</th>\n",
       "      <th>group_photo</th>\n",
       "      <th>id</th>\n",
       "      <th>join_mode</th>\n",
       "      <th>lat</th>\n",
       "      <th>link</th>\n",
       "      <th>...</th>\n",
       "      <th>state</th>\n",
       "      <th>timezone</th>\n",
       "      <th>topics</th>\n",
       "      <th>urlname</th>\n",
       "      <th>utc_offset</th>\n",
       "      <th>visibility</th>\n",
       "      <th>who</th>\n",
       "      <th>age</th>\n",
       "      <th>shortname</th>\n",
       "      <th>len_desc</th>\n",
       "    </tr>\n",
       "  </thead>\n",
       "  <tbody>\n",
       "    <tr>\n",
       "      <th>0</th>\n",
       "      <td>{u'shortname': u'movies-film', u'name': u'movi...</td>\n",
       "      <td>New York</td>\n",
       "      <td>US</td>\n",
       "      <td>1034097731</td>\n",
       "      <td>[]</td>\n",
       "      <td>{u'thumb_link': u'http://photos1.meetupstatic....</td>\n",
       "      <td>61244</td>\n",
       "      <td>approval</td>\n",
       "      <td>40.750000</td>\n",
       "      <td>http://www.meetup.com/The-New-York-City-Filmma...</td>\n",
       "      <td>...</td>\n",
       "      <td>NY</td>\n",
       "      <td>US/Eastern</td>\n",
       "      <td>[{u'name': u'Acting', u'urlkey': u'acting', u'...</td>\n",
       "      <td>The-New-York-City-Filmmakers-Group</td>\n",
       "      <td>-14400000</td>\n",
       "      <td>members</td>\n",
       "      <td>[directors, actors, screenwriters]</td>\n",
       "      <td>433247869</td>\n",
       "      <td>movies-film</td>\n",
       "      <td>0</td>\n",
       "    </tr>\n",
       "    <tr>\n",
       "      <th>1</th>\n",
       "      <td>{u'shortname': u'career-business', u'name': u'...</td>\n",
       "      <td>New York</td>\n",
       "      <td>US</td>\n",
       "      <td>1034097731</td>\n",
       "      <td>[Anyone, who, runs, their, own, business, or, ...</td>\n",
       "      <td>{u'thumb_link': u'http://photos2.meetupstatic....</td>\n",
       "      <td>54628</td>\n",
       "      <td>open</td>\n",
       "      <td>40.750000</td>\n",
       "      <td>http://www.meetup.com/entrepreneur-23/</td>\n",
       "      <td>...</td>\n",
       "      <td>NY</td>\n",
       "      <td>US/Eastern</td>\n",
       "      <td>[{u'name': u'Small Business', u'urlkey': u'sma...</td>\n",
       "      <td>entrepreneur-23</td>\n",
       "      <td>-14400000</td>\n",
       "      <td>public</td>\n",
       "      <td>[entrepreneurs]</td>\n",
       "      <td>433247869</td>\n",
       "      <td>career-business</td>\n",
       "      <td>25</td>\n",
       "    </tr>\n",
       "    <tr>\n",
       "      <th>2</th>\n",
       "      <td>{u'shortname': u'photography', u'name': u'phot...</td>\n",
       "      <td>New York</td>\n",
       "      <td>US</td>\n",
       "      <td>1034097731</td>\n",
       "      <td>[Hi, Ed, the, organizer, of, this, Meetup, and...</td>\n",
       "      <td>{u'thumb_link': u'http://photos1.meetupstatic....</td>\n",
       "      <td>120182</td>\n",
       "      <td>open</td>\n",
       "      <td>40.740002</td>\n",
       "      <td>http://www.meetup.com/NYPhotoSafari/</td>\n",
       "      <td>...</td>\n",
       "      <td>NY</td>\n",
       "      <td>US/Eastern</td>\n",
       "      <td>[{u'name': u'Digital Photography', u'urlkey': ...</td>\n",
       "      <td>NYPhotoSafari</td>\n",
       "      <td>-14400000</td>\n",
       "      <td>public</td>\n",
       "      <td>[photographers]</td>\n",
       "      <td>433247869</td>\n",
       "      <td>photography</td>\n",
       "      <td>357</td>\n",
       "    </tr>\n",
       "    <tr>\n",
       "      <th>3</th>\n",
       "      <td>{u'shortname': u'government-politics', u'name'...</td>\n",
       "      <td>New York</td>\n",
       "      <td>US</td>\n",
       "      <td>1034097731</td>\n",
       "      <td>[We, are, a, Political, and, Social, primarily...</td>\n",
       "      <td>{u'thumb_link': u'http://photos3.meetupstatic....</td>\n",
       "      <td>131291</td>\n",
       "      <td>open</td>\n",
       "      <td>40.750000</td>\n",
       "      <td>http://www.meetup.com/Republican-Party-NYC/</td>\n",
       "      <td>...</td>\n",
       "      <td>NY</td>\n",
       "      <td>US/Eastern</td>\n",
       "      <td>[{u'name': u'Republican Party', u'urlkey': u'r...</td>\n",
       "      <td>Republican-Party-NYC</td>\n",
       "      <td>-14400000</td>\n",
       "      <td>public</td>\n",
       "      <td>[republicans]</td>\n",
       "      <td>433247869</td>\n",
       "      <td>government-politics</td>\n",
       "      <td>95</td>\n",
       "    </tr>\n",
       "    <tr>\n",
       "      <th>4</th>\n",
       "      <td>{u'shortname': u'sci-fi-fantasy', u'name': u's...</td>\n",
       "      <td>New York</td>\n",
       "      <td>US</td>\n",
       "      <td>1034097734</td>\n",
       "      <td>[This, Meetup, Group, is, for, Trekkies, Trekk...</td>\n",
       "      <td>{u'thumb_link': u'http://photos3.meetupstatic....</td>\n",
       "      <td>147811</td>\n",
       "      <td>open</td>\n",
       "      <td>40.750000</td>\n",
       "      <td>http://www.meetup.com/nystartrek/</td>\n",
       "      <td>...</td>\n",
       "      <td>NY</td>\n",
       "      <td>US/Eastern</td>\n",
       "      <td>[{u'name': u'Star Trek', u'urlkey': u'startrek...</td>\n",
       "      <td>nystartrek</td>\n",
       "      <td>-14400000</td>\n",
       "      <td>public</td>\n",
       "      <td>[trekkies, trekkers]</td>\n",
       "      <td>433247866</td>\n",
       "      <td>sci-fi-fantasy</td>\n",
       "      <td>17</td>\n",
       "    </tr>\n",
       "  </tbody>\n",
       "</table>\n",
       "<p>5 rows × 25 columns</p>\n",
       "</div>"
      ],
      "text/plain": [
       "                                            category      city country  \\\n",
       "0  {u'shortname': u'movies-film', u'name': u'movi...  New York      US   \n",
       "1  {u'shortname': u'career-business', u'name': u'...  New York      US   \n",
       "2  {u'shortname': u'photography', u'name': u'phot...  New York      US   \n",
       "3  {u'shortname': u'government-politics', u'name'...  New York      US   \n",
       "4  {u'shortname': u'sci-fi-fantasy', u'name': u's...  New York      US   \n",
       "\n",
       "      created                                        description  \\\n",
       "0  1034097731                                                 []   \n",
       "1  1034097731  [Anyone, who, runs, their, own, business, or, ...   \n",
       "2  1034097731  [Hi, Ed, the, organizer, of, this, Meetup, and...   \n",
       "3  1034097731  [We, are, a, Political, and, Social, primarily...   \n",
       "4  1034097734  [This, Meetup, Group, is, for, Trekkies, Trekk...   \n",
       "\n",
       "                                         group_photo      id join_mode  \\\n",
       "0  {u'thumb_link': u'http://photos1.meetupstatic....   61244  approval   \n",
       "1  {u'thumb_link': u'http://photos2.meetupstatic....   54628      open   \n",
       "2  {u'thumb_link': u'http://photos1.meetupstatic....  120182      open   \n",
       "3  {u'thumb_link': u'http://photos3.meetupstatic....  131291      open   \n",
       "4  {u'thumb_link': u'http://photos3.meetupstatic....  147811      open   \n",
       "\n",
       "         lat                                               link    ...     \\\n",
       "0  40.750000  http://www.meetup.com/The-New-York-City-Filmma...    ...      \n",
       "1  40.750000             http://www.meetup.com/entrepreneur-23/    ...      \n",
       "2  40.740002               http://www.meetup.com/NYPhotoSafari/    ...      \n",
       "3  40.750000        http://www.meetup.com/Republican-Party-NYC/    ...      \n",
       "4  40.750000                  http://www.meetup.com/nystartrek/    ...      \n",
       "\n",
       "   state    timezone                                             topics  \\\n",
       "0     NY  US/Eastern  [{u'name': u'Acting', u'urlkey': u'acting', u'...   \n",
       "1     NY  US/Eastern  [{u'name': u'Small Business', u'urlkey': u'sma...   \n",
       "2     NY  US/Eastern  [{u'name': u'Digital Photography', u'urlkey': ...   \n",
       "3     NY  US/Eastern  [{u'name': u'Republican Party', u'urlkey': u'r...   \n",
       "4     NY  US/Eastern  [{u'name': u'Star Trek', u'urlkey': u'startrek...   \n",
       "\n",
       "                              urlname  utc_offset visibility  \\\n",
       "0  The-New-York-City-Filmmakers-Group   -14400000    members   \n",
       "1                     entrepreneur-23   -14400000     public   \n",
       "2                       NYPhotoSafari   -14400000     public   \n",
       "3                Republican-Party-NYC   -14400000     public   \n",
       "4                          nystartrek   -14400000     public   \n",
       "\n",
       "                                  who        age            shortname  \\\n",
       "0  [directors, actors, screenwriters]  433247869          movies-film   \n",
       "1                     [entrepreneurs]  433247869      career-business   \n",
       "2                     [photographers]  433247869          photography   \n",
       "3                       [republicans]  433247869  government-politics   \n",
       "4                [trekkies, trekkers]  433247866       sci-fi-fantasy   \n",
       "\n",
       "   len_desc  \n",
       "0         0  \n",
       "1        25  \n",
       "2       357  \n",
       "3        95  \n",
       "4        17  \n",
       "\n",
       "[5 rows x 25 columns]"
      ]
     },
     "execution_count": 33,
     "metadata": {},
     "output_type": "execute_result"
    }
   ],
   "source": [
    "df.head()"
   ]
  },
  {
   "cell_type": "markdown",
   "metadata": {},
   "source": [
    "#### Description Exploration"
   ]
  },
  {
   "cell_type": "markdown",
   "metadata": {},
   "source": [
    "Description was not part of my original hypothesis but after seeing that it is available in the data, there can be rich information in it."
   ]
  },
  {
   "cell_type": "code",
   "execution_count": 27,
   "metadata": {
    "collapsed": false
   },
   "outputs": [
    {
     "data": {
      "text/plain": [
       "'<p>Anyone who runs their own business or would like to be in the company of entrepreneurs, innovators and financiers should join. This group about everything related to entrepreneurship.</p>'"
      ]
     },
     "execution_count": 27,
     "metadata": {},
     "output_type": "execute_result"
    }
   ],
   "source": [
    "# Viewing how a description looks\n",
    "\n",
    "df['description'][1]"
   ]
  },
  {
   "cell_type": "markdown",
   "metadata": {},
   "source": [
    "Since the descripiton is a string, then I need to remove the html tags"
   ]
  },
  {
   "cell_type": "code",
   "execution_count": 28,
   "metadata": {
    "collapsed": false,
    "scrolled": false
   },
   "outputs": [],
   "source": [
    "# Function to remove html tags in the description column\n",
    "\n",
    "import re\n",
    "\n",
    "def striphtml(data):\n",
    "    try:\n",
    "        p = re.compile(r\"<.*?>\")\n",
    "        w = p.sub('', data)\n",
    "        w = [str(word) for word in w.split() if word.isalpha()]\n",
    "        return w\n",
    "    except:\n",
    "        return ['NAN']"
   ]
  },
  {
   "cell_type": "code",
   "execution_count": 29,
   "metadata": {
    "collapsed": false,
    "scrolled": false
   },
   "outputs": [],
   "source": [
    "# Apply the striphtml function to every description row\n",
    "\n",
    "df['description'] = df.apply(lambda x: striphtml(x['description']), axis = 1)"
   ]
  },
  {
   "cell_type": "markdown",
   "metadata": {},
   "source": [
    "There are two ways I can think of analyzing the description: the length of words and creating a word2vec"
   ]
  },
  {
   "cell_type": "code",
   "execution_count": 30,
   "metadata": {
    "collapsed": false,
    "scrolled": false
   },
   "outputs": [],
   "source": [
    "# Function to return length of list\n",
    "\n",
    "def len_(x):\n",
    "    return len(x)"
   ]
  },
  {
   "cell_type": "code",
   "execution_count": 31,
   "metadata": {
    "collapsed": true
   },
   "outputs": [],
   "source": [
    "# Apply the len_desc function onto df_clean\n",
    "\n",
    "df['len_desc'] = df['description'].apply(len_)"
   ]
  },
  {
   "cell_type": "code",
   "execution_count": 34,
   "metadata": {
    "collapsed": false,
    "scrolled": false
   },
   "outputs": [],
   "source": [
    "# Apply len to the who vector\n",
    "\n",
    "df['len_who'] = df['who'].apply(len)"
   ]
  },
  {
   "cell_type": "code",
   "execution_count": 35,
   "metadata": {
    "collapsed": false
   },
   "outputs": [
    {
     "data": {
      "text/html": [
       "<div>\n",
       "<table border=\"1\" class=\"dataframe\">\n",
       "  <thead>\n",
       "    <tr style=\"text-align: right;\">\n",
       "      <th></th>\n",
       "      <th>category</th>\n",
       "      <th>city</th>\n",
       "      <th>country</th>\n",
       "      <th>created</th>\n",
       "      <th>description</th>\n",
       "      <th>group_photo</th>\n",
       "      <th>id</th>\n",
       "      <th>join_mode</th>\n",
       "      <th>lat</th>\n",
       "      <th>link</th>\n",
       "      <th>...</th>\n",
       "      <th>timezone</th>\n",
       "      <th>topics</th>\n",
       "      <th>urlname</th>\n",
       "      <th>utc_offset</th>\n",
       "      <th>visibility</th>\n",
       "      <th>who</th>\n",
       "      <th>age</th>\n",
       "      <th>shortname</th>\n",
       "      <th>len_desc</th>\n",
       "      <th>len_who</th>\n",
       "    </tr>\n",
       "  </thead>\n",
       "  <tbody>\n",
       "    <tr>\n",
       "      <th>0</th>\n",
       "      <td>{u'shortname': u'movies-film', u'name': u'movi...</td>\n",
       "      <td>New York</td>\n",
       "      <td>US</td>\n",
       "      <td>1034097731</td>\n",
       "      <td>[]</td>\n",
       "      <td>{u'thumb_link': u'http://photos1.meetupstatic....</td>\n",
       "      <td>61244</td>\n",
       "      <td>approval</td>\n",
       "      <td>40.750000</td>\n",
       "      <td>http://www.meetup.com/The-New-York-City-Filmma...</td>\n",
       "      <td>...</td>\n",
       "      <td>US/Eastern</td>\n",
       "      <td>[{u'name': u'Acting', u'urlkey': u'acting', u'...</td>\n",
       "      <td>The-New-York-City-Filmmakers-Group</td>\n",
       "      <td>-14400000</td>\n",
       "      <td>members</td>\n",
       "      <td>[directors, actors, screenwriters]</td>\n",
       "      <td>433247869</td>\n",
       "      <td>movies-film</td>\n",
       "      <td>0</td>\n",
       "      <td>3</td>\n",
       "    </tr>\n",
       "    <tr>\n",
       "      <th>1</th>\n",
       "      <td>{u'shortname': u'career-business', u'name': u'...</td>\n",
       "      <td>New York</td>\n",
       "      <td>US</td>\n",
       "      <td>1034097731</td>\n",
       "      <td>[Anyone, who, runs, their, own, business, or, ...</td>\n",
       "      <td>{u'thumb_link': u'http://photos2.meetupstatic....</td>\n",
       "      <td>54628</td>\n",
       "      <td>open</td>\n",
       "      <td>40.750000</td>\n",
       "      <td>http://www.meetup.com/entrepreneur-23/</td>\n",
       "      <td>...</td>\n",
       "      <td>US/Eastern</td>\n",
       "      <td>[{u'name': u'Small Business', u'urlkey': u'sma...</td>\n",
       "      <td>entrepreneur-23</td>\n",
       "      <td>-14400000</td>\n",
       "      <td>public</td>\n",
       "      <td>[entrepreneurs]</td>\n",
       "      <td>433247869</td>\n",
       "      <td>career-business</td>\n",
       "      <td>25</td>\n",
       "      <td>1</td>\n",
       "    </tr>\n",
       "    <tr>\n",
       "      <th>2</th>\n",
       "      <td>{u'shortname': u'photography', u'name': u'phot...</td>\n",
       "      <td>New York</td>\n",
       "      <td>US</td>\n",
       "      <td>1034097731</td>\n",
       "      <td>[Hi, Ed, the, organizer, of, this, Meetup, and...</td>\n",
       "      <td>{u'thumb_link': u'http://photos1.meetupstatic....</td>\n",
       "      <td>120182</td>\n",
       "      <td>open</td>\n",
       "      <td>40.740002</td>\n",
       "      <td>http://www.meetup.com/NYPhotoSafari/</td>\n",
       "      <td>...</td>\n",
       "      <td>US/Eastern</td>\n",
       "      <td>[{u'name': u'Digital Photography', u'urlkey': ...</td>\n",
       "      <td>NYPhotoSafari</td>\n",
       "      <td>-14400000</td>\n",
       "      <td>public</td>\n",
       "      <td>[photographers]</td>\n",
       "      <td>433247869</td>\n",
       "      <td>photography</td>\n",
       "      <td>357</td>\n",
       "      <td>1</td>\n",
       "    </tr>\n",
       "    <tr>\n",
       "      <th>3</th>\n",
       "      <td>{u'shortname': u'government-politics', u'name'...</td>\n",
       "      <td>New York</td>\n",
       "      <td>US</td>\n",
       "      <td>1034097731</td>\n",
       "      <td>[We, are, a, Political, and, Social, primarily...</td>\n",
       "      <td>{u'thumb_link': u'http://photos3.meetupstatic....</td>\n",
       "      <td>131291</td>\n",
       "      <td>open</td>\n",
       "      <td>40.750000</td>\n",
       "      <td>http://www.meetup.com/Republican-Party-NYC/</td>\n",
       "      <td>...</td>\n",
       "      <td>US/Eastern</td>\n",
       "      <td>[{u'name': u'Republican Party', u'urlkey': u'r...</td>\n",
       "      <td>Republican-Party-NYC</td>\n",
       "      <td>-14400000</td>\n",
       "      <td>public</td>\n",
       "      <td>[republicans]</td>\n",
       "      <td>433247869</td>\n",
       "      <td>government-politics</td>\n",
       "      <td>95</td>\n",
       "      <td>1</td>\n",
       "    </tr>\n",
       "    <tr>\n",
       "      <th>4</th>\n",
       "      <td>{u'shortname': u'sci-fi-fantasy', u'name': u's...</td>\n",
       "      <td>New York</td>\n",
       "      <td>US</td>\n",
       "      <td>1034097734</td>\n",
       "      <td>[This, Meetup, Group, is, for, Trekkies, Trekk...</td>\n",
       "      <td>{u'thumb_link': u'http://photos3.meetupstatic....</td>\n",
       "      <td>147811</td>\n",
       "      <td>open</td>\n",
       "      <td>40.750000</td>\n",
       "      <td>http://www.meetup.com/nystartrek/</td>\n",
       "      <td>...</td>\n",
       "      <td>US/Eastern</td>\n",
       "      <td>[{u'name': u'Star Trek', u'urlkey': u'startrek...</td>\n",
       "      <td>nystartrek</td>\n",
       "      <td>-14400000</td>\n",
       "      <td>public</td>\n",
       "      <td>[trekkies, trekkers]</td>\n",
       "      <td>433247866</td>\n",
       "      <td>sci-fi-fantasy</td>\n",
       "      <td>17</td>\n",
       "      <td>2</td>\n",
       "    </tr>\n",
       "  </tbody>\n",
       "</table>\n",
       "<p>5 rows × 26 columns</p>\n",
       "</div>"
      ],
      "text/plain": [
       "                                            category      city country  \\\n",
       "0  {u'shortname': u'movies-film', u'name': u'movi...  New York      US   \n",
       "1  {u'shortname': u'career-business', u'name': u'...  New York      US   \n",
       "2  {u'shortname': u'photography', u'name': u'phot...  New York      US   \n",
       "3  {u'shortname': u'government-politics', u'name'...  New York      US   \n",
       "4  {u'shortname': u'sci-fi-fantasy', u'name': u's...  New York      US   \n",
       "\n",
       "      created                                        description  \\\n",
       "0  1034097731                                                 []   \n",
       "1  1034097731  [Anyone, who, runs, their, own, business, or, ...   \n",
       "2  1034097731  [Hi, Ed, the, organizer, of, this, Meetup, and...   \n",
       "3  1034097731  [We, are, a, Political, and, Social, primarily...   \n",
       "4  1034097734  [This, Meetup, Group, is, for, Trekkies, Trekk...   \n",
       "\n",
       "                                         group_photo      id join_mode  \\\n",
       "0  {u'thumb_link': u'http://photos1.meetupstatic....   61244  approval   \n",
       "1  {u'thumb_link': u'http://photos2.meetupstatic....   54628      open   \n",
       "2  {u'thumb_link': u'http://photos1.meetupstatic....  120182      open   \n",
       "3  {u'thumb_link': u'http://photos3.meetupstatic....  131291      open   \n",
       "4  {u'thumb_link': u'http://photos3.meetupstatic....  147811      open   \n",
       "\n",
       "         lat                                               link   ...     \\\n",
       "0  40.750000  http://www.meetup.com/The-New-York-City-Filmma...   ...      \n",
       "1  40.750000             http://www.meetup.com/entrepreneur-23/   ...      \n",
       "2  40.740002               http://www.meetup.com/NYPhotoSafari/   ...      \n",
       "3  40.750000        http://www.meetup.com/Republican-Party-NYC/   ...      \n",
       "4  40.750000                  http://www.meetup.com/nystartrek/   ...      \n",
       "\n",
       "     timezone                                             topics  \\\n",
       "0  US/Eastern  [{u'name': u'Acting', u'urlkey': u'acting', u'...   \n",
       "1  US/Eastern  [{u'name': u'Small Business', u'urlkey': u'sma...   \n",
       "2  US/Eastern  [{u'name': u'Digital Photography', u'urlkey': ...   \n",
       "3  US/Eastern  [{u'name': u'Republican Party', u'urlkey': u'r...   \n",
       "4  US/Eastern  [{u'name': u'Star Trek', u'urlkey': u'startrek...   \n",
       "\n",
       "                              urlname utc_offset  visibility  \\\n",
       "0  The-New-York-City-Filmmakers-Group  -14400000     members   \n",
       "1                     entrepreneur-23  -14400000      public   \n",
       "2                       NYPhotoSafari  -14400000      public   \n",
       "3                Republican-Party-NYC  -14400000      public   \n",
       "4                          nystartrek  -14400000      public   \n",
       "\n",
       "                                  who        age            shortname  \\\n",
       "0  [directors, actors, screenwriters]  433247869          movies-film   \n",
       "1                     [entrepreneurs]  433247869      career-business   \n",
       "2                     [photographers]  433247869          photography   \n",
       "3                       [republicans]  433247869  government-politics   \n",
       "4                [trekkies, trekkers]  433247866       sci-fi-fantasy   \n",
       "\n",
       "  len_desc  len_who  \n",
       "0        0        3  \n",
       "1       25        1  \n",
       "2      357        1  \n",
       "3       95        1  \n",
       "4       17        2  \n",
       "\n",
       "[5 rows x 26 columns]"
      ]
     },
     "execution_count": 35,
     "metadata": {},
     "output_type": "execute_result"
    }
   ],
   "source": [
    "df.head()"
   ]
  },
  {
   "cell_type": "code",
   "execution_count": 36,
   "metadata": {
    "collapsed": false
   },
   "outputs": [
    {
     "name": "stderr",
     "output_type": "stream",
     "text": [
      "/Users/tqrahman/anaconda/lib/python2.7/site-packages/seaborn/linearmodels.py:1285: UserWarning:\n",
      "\n",
      "The `corrplot` function has been deprecated in favor of `heatmap` and will be removed in a forthcoming release. Please update your code.\n",
      "\n",
      "/Users/tqrahman/anaconda/lib/python2.7/site-packages/seaborn/linearmodels.py:1351: UserWarning:\n",
      "\n",
      "The `symmatplot` function has been deprecated in favor of `heatmap` and will be removed in a forthcoming release. Please update your code.\n",
      "\n"
     ]
    },
    {
     "data": {
      "text/plain": [
       "<matplotlib.axes._subplots.AxesSubplot at 0x10409c3d0>"
      ]
     },
     "execution_count": 36,
     "metadata": {},
     "output_type": "execute_result"
    },
    {
     "data": {
      "image/png": "[encoded data removed]",
      "text/plain": [
       "<matplotlib.figure.Figure at 0x11e29d9d0>"
      ]
     },
     "metadata": {},
     "output_type": "display_data"
    }
   ],
   "source": [
    "sns.corrplot(df)"
   ]
  },
  {
   "cell_type": "markdown",
   "metadata": {},
   "source": [
    "The rest of the features can be dummied down."
   ]
  },
  {
   "cell_type": "code",
   "execution_count": 37,
   "metadata": {
    "collapsed": false,
    "scrolled": false
   },
   "outputs": [],
   "source": [
    "# Dumify the join_mode category and concat it with df\n",
    "\n",
    "j_mode = pd.get_dummies(df['join_mode'])\n",
    "df = pd.concat([df, j_mode], axis=1)"
   ]
  },
  {
   "cell_type": "code",
   "execution_count": 38,
   "metadata": {
    "collapsed": false,
    "scrolled": false
   },
   "outputs": [],
   "source": [
    "# Dumify the shortname and concat with df\n",
    "\n",
    "short = pd.get_dummies(df['shortname'])\n",
    "df = pd.concat([df, short], axis=1)"
   ]
  },
  {
   "cell_type": "code",
   "execution_count": 39,
   "metadata": {
    "collapsed": false,
    "scrolled": false
   },
   "outputs": [],
   "source": [
    "# Dumify the visibility and concat with df\n",
    "\n",
    "vis = pd.get_dummies(df['visibility'])\n",
    "df = pd.concat([df, vis], axis =1)"
   ]
  },
  {
   "cell_type": "code",
   "execution_count": 40,
   "metadata": {
    "collapsed": false,
    "scrolled": false
   },
   "outputs": [],
   "source": [
    "# Dumify the state and concat with df\n",
    "\n",
    "state = pd.get_dummies(df['state'])\n",
    "df = pd.concat([df, state], axis =1)"
   ]
  },
  {
   "cell_type": "code",
   "execution_count": 41,
   "metadata": {
    "collapsed": false
   },
   "outputs": [
    {
     "data": {
      "text/plain": [
       "<matplotlib.axes._subplots.AxesSubplot at 0x122462490>"
      ]
     },
     "execution_count": 41,
     "metadata": {},
     "output_type": "execute_result"
    },
    {
     "data": {
      "image/png": "[encoded data removed]",
      "text/plain": [
       "<matplotlib.figure.Figure at 0x11e125bd0>"
      ]
     },
     "metadata": {},
     "output_type": "display_data"
    }
   ],
   "source": [
    "plt.subplots(figsize=(12, 9))\n",
    "sns.heatmap(df.corr(), vmax=.8, square=True)"
   ]
  },
  {
   "cell_type": "code",
   "execution_count": 42,
   "metadata": {
    "collapsed": false
   },
   "outputs": [],
   "source": [
    "# Dropping unneccasry columns\n",
    "\n",
    "df.drop('id', axis=1, inplace=True) #id is unique for every meetup so it does not provide information"
   ]
  },
  {
   "cell_type": "code",
   "execution_count": 44,
   "metadata": {
    "collapsed": false,
    "scrolled": false
   },
   "outputs": [
    {
     "data": {
      "text/plain": [
       "Index([             u'category',                  u'city',\n",
       "                     u'country',               u'created',\n",
       "                 u'description',           u'group_photo',\n",
       "                   u'join_mode',                   u'lat',\n",
       "                        u'link',                   u'lon',\n",
       "                    u'members_',                  u'name',\n",
       "                   u'organizer',                u'rating',\n",
       "                       u'state',              u'timezone',\n",
       "                      u'topics',               u'urlname',\n",
       "                  u'utc_offset',            u'visibility',\n",
       "                         u'who',                   u'age',\n",
       "                   u'shortname',              u'len_desc',\n",
       "                     u'len_who',              u'approval',\n",
       "                      u'closed',                  u'open',\n",
       "                         u'NaN',          u'arts-culture',\n",
       "                  u'book-clubs',       u'career-business',\n",
       "            u'cars-motorcycles', u'community-environment',\n",
       "                     u'dancing',    u'education-learning',\n",
       "              u'fashion-beauty',               u'fitness',\n",
       "                  u'food-drink',                 u'games',\n",
       "         u'government-politics',      u'health-wellbeing',\n",
       "              u'hobbies-crafts',              u'language',\n",
       "                        u'lgbt',             u'lifestyle',\n",
       "                 u'movies-film',                 u'music',\n",
       "        u'new-age-spirituality',    u'outdoors-adventure',\n",
       "                  u'paranormal',        u'parents-family',\n",
       "                u'pets-animals',           u'photography',\n",
       "            u'religion-beliefs',        u'sci-fi-fantasy',\n",
       "                     u'singles',           u'socializing',\n",
       "           u'sports-recreation',               u'support',\n",
       "                        u'tech',               u'writing',\n",
       "                     u'members',                u'public',\n",
       "              u'public_limited',                    u'AZ',\n",
       "                          u'CA',                    u'IL',\n",
       "                          u'NY',                    u'PA',\n",
       "                          u'TX'],\n",
       "      dtype='object')"
      ]
     },
     "execution_count": 44,
     "metadata": {},
     "output_type": "execute_result"
    }
   ],
   "source": [
    "df.columns"
   ]
  },
  {
   "cell_type": "markdown",
   "metadata": {},
   "source": [
    "## Predicting the Number of Members"
   ]
  },
  {
   "cell_type": "code",
   "execution_count": 45,
   "metadata": {
    "collapsed": false,
    "scrolled": false
   },
   "outputs": [],
   "source": [
    "# Applying Random Forest\n",
    "\n",
    "from sklearn.ensemble import RandomForestRegressor\n",
    "from sklearn import cross_validation as cv\n",
    "from sklearn import grid_search as gs"
   ]
  },
  {
   "cell_type": "code",
   "execution_count": 48,
   "metadata": {
    "collapsed": false
   },
   "outputs": [],
   "source": [
    "# Creating a dataframe that has the features\n",
    "\n",
    "rf_df = df.drop(['category','utc_offset','created','city','description', 'country','description','group_photo',\n",
    "                 'join_mode','link','name','organizer','state','timezone','topics','urlname','visibility','who',\n",
    "                 'shortname'], axis=1)"
   ]
  },
  {
   "cell_type": "code",
   "execution_count": 50,
   "metadata": {
    "collapsed": false
   },
   "outputs": [
    {
     "data": {
      "text/html": [
       "<div>\n",
       "<table border=\"1\" class=\"dataframe\">\n",
       "  <thead>\n",
       "    <tr style=\"text-align: right;\">\n",
       "      <th></th>\n",
       "      <th>lat</th>\n",
       "      <th>lon</th>\n",
       "      <th>members_</th>\n",
       "      <th>rating</th>\n",
       "      <th>age</th>\n",
       "      <th>len_desc</th>\n",
       "      <th>len_who</th>\n",
       "      <th>approval</th>\n",
       "      <th>closed</th>\n",
       "      <th>open</th>\n",
       "      <th>...</th>\n",
       "      <th>writing</th>\n",
       "      <th>members</th>\n",
       "      <th>public</th>\n",
       "      <th>public_limited</th>\n",
       "      <th>AZ</th>\n",
       "      <th>CA</th>\n",
       "      <th>IL</th>\n",
       "      <th>NY</th>\n",
       "      <th>PA</th>\n",
       "      <th>TX</th>\n",
       "    </tr>\n",
       "  </thead>\n",
       "  <tbody>\n",
       "    <tr>\n",
       "      <th>0</th>\n",
       "      <td>40.750000</td>\n",
       "      <td>-73.989998</td>\n",
       "      <td>273</td>\n",
       "      <td>3.93</td>\n",
       "      <td>433247869</td>\n",
       "      <td>0</td>\n",
       "      <td>3</td>\n",
       "      <td>1.0</td>\n",
       "      <td>0.0</td>\n",
       "      <td>0.0</td>\n",
       "      <td>...</td>\n",
       "      <td>0.0</td>\n",
       "      <td>1.0</td>\n",
       "      <td>0.0</td>\n",
       "      <td>0.0</td>\n",
       "      <td>0.0</td>\n",
       "      <td>0.0</td>\n",
       "      <td>0.0</td>\n",
       "      <td>1.0</td>\n",
       "      <td>0.0</td>\n",
       "      <td>0.0</td>\n",
       "    </tr>\n",
       "    <tr>\n",
       "      <th>1</th>\n",
       "      <td>40.750000</td>\n",
       "      <td>-73.989998</td>\n",
       "      <td>2636</td>\n",
       "      <td>3.70</td>\n",
       "      <td>433247869</td>\n",
       "      <td>25</td>\n",
       "      <td>1</td>\n",
       "      <td>0.0</td>\n",
       "      <td>0.0</td>\n",
       "      <td>1.0</td>\n",
       "      <td>...</td>\n",
       "      <td>0.0</td>\n",
       "      <td>0.0</td>\n",
       "      <td>1.0</td>\n",
       "      <td>0.0</td>\n",
       "      <td>0.0</td>\n",
       "      <td>0.0</td>\n",
       "      <td>0.0</td>\n",
       "      <td>1.0</td>\n",
       "      <td>0.0</td>\n",
       "      <td>0.0</td>\n",
       "    </tr>\n",
       "    <tr>\n",
       "      <th>2</th>\n",
       "      <td>40.740002</td>\n",
       "      <td>-74.000000</td>\n",
       "      <td>2906</td>\n",
       "      <td>4.45</td>\n",
       "      <td>433247869</td>\n",
       "      <td>357</td>\n",
       "      <td>1</td>\n",
       "      <td>0.0</td>\n",
       "      <td>0.0</td>\n",
       "      <td>1.0</td>\n",
       "      <td>...</td>\n",
       "      <td>0.0</td>\n",
       "      <td>0.0</td>\n",
       "      <td>1.0</td>\n",
       "      <td>0.0</td>\n",
       "      <td>0.0</td>\n",
       "      <td>0.0</td>\n",
       "      <td>0.0</td>\n",
       "      <td>1.0</td>\n",
       "      <td>0.0</td>\n",
       "      <td>0.0</td>\n",
       "    </tr>\n",
       "    <tr>\n",
       "      <th>3</th>\n",
       "      <td>40.750000</td>\n",
       "      <td>-73.989998</td>\n",
       "      <td>526</td>\n",
       "      <td>3.45</td>\n",
       "      <td>433247869</td>\n",
       "      <td>95</td>\n",
       "      <td>1</td>\n",
       "      <td>0.0</td>\n",
       "      <td>0.0</td>\n",
       "      <td>1.0</td>\n",
       "      <td>...</td>\n",
       "      <td>0.0</td>\n",
       "      <td>0.0</td>\n",
       "      <td>1.0</td>\n",
       "      <td>0.0</td>\n",
       "      <td>0.0</td>\n",
       "      <td>0.0</td>\n",
       "      <td>0.0</td>\n",
       "      <td>1.0</td>\n",
       "      <td>0.0</td>\n",
       "      <td>0.0</td>\n",
       "    </tr>\n",
       "    <tr>\n",
       "      <th>4</th>\n",
       "      <td>40.750000</td>\n",
       "      <td>-73.989998</td>\n",
       "      <td>644</td>\n",
       "      <td>4.49</td>\n",
       "      <td>433247866</td>\n",
       "      <td>17</td>\n",
       "      <td>2</td>\n",
       "      <td>0.0</td>\n",
       "      <td>0.0</td>\n",
       "      <td>1.0</td>\n",
       "      <td>...</td>\n",
       "      <td>0.0</td>\n",
       "      <td>0.0</td>\n",
       "      <td>1.0</td>\n",
       "      <td>0.0</td>\n",
       "      <td>0.0</td>\n",
       "      <td>0.0</td>\n",
       "      <td>0.0</td>\n",
       "      <td>1.0</td>\n",
       "      <td>0.0</td>\n",
       "      <td>0.0</td>\n",
       "    </tr>\n",
       "  </tbody>\n",
       "</table>\n",
       "<p>5 rows × 53 columns</p>\n",
       "</div>"
      ],
      "text/plain": [
       "         lat        lon  members_  rating        age  len_desc  len_who  \\\n",
       "0  40.750000 -73.989998       273    3.93  433247869         0        3   \n",
       "1  40.750000 -73.989998      2636    3.70  433247869        25        1   \n",
       "2  40.740002 -74.000000      2906    4.45  433247869       357        1   \n",
       "3  40.750000 -73.989998       526    3.45  433247869        95        1   \n",
       "4  40.750000 -73.989998       644    4.49  433247866        17        2   \n",
       "\n",
       "   approval  closed  open ...   writing  members  public  public_limited   AZ  \\\n",
       "0       1.0     0.0   0.0 ...       0.0      1.0     0.0             0.0  0.0   \n",
       "1       0.0     0.0   1.0 ...       0.0      0.0     1.0             0.0  0.0   \n",
       "2       0.0     0.0   1.0 ...       0.0      0.0     1.0             0.0  0.0   \n",
       "3       0.0     0.0   1.0 ...       0.0      0.0     1.0             0.0  0.0   \n",
       "4       0.0     0.0   1.0 ...       0.0      0.0     1.0             0.0  0.0   \n",
       "\n",
       "    CA   IL   NY   PA   TX  \n",
       "0  0.0  0.0  1.0  0.0  0.0  \n",
       "1  0.0  0.0  1.0  0.0  0.0  \n",
       "2  0.0  0.0  1.0  0.0  0.0  \n",
       "3  0.0  0.0  1.0  0.0  0.0  \n",
       "4  0.0  0.0  1.0  0.0  0.0  \n",
       "\n",
       "[5 rows x 53 columns]"
      ]
     },
     "execution_count": 50,
     "metadata": {},
     "output_type": "execute_result"
    }
   ],
   "source": [
    "rf_df.head()"
   ]
  },
  {
   "cell_type": "code",
   "execution_count": 54,
   "metadata": {
    "collapsed": false,
    "scrolled": false
   },
   "outputs": [],
   "source": [
    "# Creating feature and label set\n",
    "\n",
    "X = rf_df.iloc[:,0:54].drop(['members_'], axis=1)\n",
    "Y = rf_df.iloc[:,2]"
   ]
  },
  {
   "cell_type": "code",
   "execution_count": 56,
   "metadata": {
    "collapsed": false,
    "scrolled": false
   },
   "outputs": [],
   "source": [
    "# Splitting X and Y into training and test set\n",
    "\n",
    "x_train, x_test, y_train, y_test = cv.train_test_split(X,Y,train_size = 0.7, random_state=0)"
   ]
  },
  {
   "cell_type": "code",
   "execution_count": 57,
   "metadata": {
    "collapsed": false,
    "scrolled": false
   },
   "outputs": [
    {
     "data": {
      "text/plain": [
       "GridSearchCV(cv=5, error_score='raise',\n",
       "       estimator=RandomForestRegressor(bootstrap=True, criterion='mse', max_depth=None,\n",
       "           max_features='auto', max_leaf_nodes=None, min_samples_leaf=1,\n",
       "           min_samples_split=2, min_weight_fraction_leaf=0.0,\n",
       "           n_estimators=10, n_jobs=1, oob_score=False, random_state=None,\n",
       "           verbose=0, warm_start=False),\n",
       "       fit_params={}, iid=True, n_jobs=1,\n",
       "       param_grid=[{u'n_estimators': [10, 50, 100], u'min_samples_split': array([  2.,   4.,   6.,   8.,  10.,  12.,  14.,  16.,  18.,  20.,  22.,\n",
       "        24.,  26.,  28.,  30.]), u'min_samples_leaf': [1, 2, 3, 4, 5]}],\n",
       "       pre_dispatch='2*n_jobs', refit=True, scoring=None, verbose=0)"
      ]
     },
     "execution_count": 57,
     "metadata": {},
     "output_type": "execute_result"
    }
   ],
   "source": [
    "# Using a grid search to find the best parameters\n",
    "\n",
    "rf = RandomForestRegressor()\n",
    "grid_para_forest = [{\"n_estimators\": [10, 50, 100], \\\n",
    "                    \"min_samples_leaf\": range(1, 6), \"min_samples_split\": np.linspace(2, 30, 15)}]\n",
    "grid_search = gs.GridSearchCV(rf, grid_para_forest, cv=5)\n",
    "grid_search.fit(x_train, y_train)"
   ]
  },
  {
   "cell_type": "code",
   "execution_count": 58,
   "metadata": {
    "collapsed": false,
    "scrolled": false
   },
   "outputs": [
    {
     "data": {
      "text/plain": [
       "{u'min_samples_leaf': 4, u'min_samples_split': 28.0, u'n_estimators': 50}"
      ]
     },
     "execution_count": 58,
     "metadata": {},
     "output_type": "execute_result"
    }
   ],
   "source": [
    "# Viewing the best parameters\n",
    "\n",
    "grid_search.best_params_"
   ]
  },
  {
   "cell_type": "code",
   "execution_count": 59,
   "metadata": {
    "collapsed": false,
    "scrolled": false
   },
   "outputs": [
    {
     "data": {
      "text/plain": [
       "0.24033132603297142"
      ]
     },
     "execution_count": 59,
     "metadata": {},
     "output_type": "execute_result"
    }
   ],
   "source": [
    "# Viewing the best score\n",
    "\n",
    "grid_search.best_score_"
   ]
  },
  {
   "cell_type": "code",
   "execution_count": 60,
   "metadata": {
    "collapsed": false,
    "scrolled": false
   },
   "outputs": [
    {
     "data": {
      "text/plain": [
       "RandomForestRegressor(bootstrap=True, criterion='mse', max_depth=6,\n",
       "           max_features=52, max_leaf_nodes=None, min_samples_leaf=1,\n",
       "           min_samples_split=2, min_weight_fraction_leaf=0.0,\n",
       "           n_estimators=50, n_jobs=1, oob_score=False, random_state=None,\n",
       "           verbose=0, warm_start=False)"
      ]
     },
     "execution_count": 60,
     "metadata": {},
     "output_type": "execute_result"
    }
   ],
   "source": [
    "# Setting the parameters of the random forest\n",
    "\n",
    "rf.set_params(n_estimators=50,\n",
    "              max_features=52,\n",
    "              max_depth=6)\n",
    "rf.fit(x_train,y_train)"
   ]
  },
  {
   "cell_type": "code",
   "execution_count": 61,
   "metadata": {
    "collapsed": false,
    "scrolled": false
   },
   "outputs": [
    {
     "name": "stdout",
     "output_type": "stream",
     "text": [
      "The training error of random forest is: 0.65425\n",
      "The test error of random forest is: 0.86321\n"
     ]
    }
   ],
   "source": [
    "# Finding out the score of each\n",
    "\n",
    "print \"The training error of random forest is: %.5f\" %(1-rf.score(x_train, y_train))\n",
    "print \"The test error of random forest is: %.5f\" %(1-rf.score(x_test, y_test))"
   ]
  },
  {
   "cell_type": "code",
   "execution_count": 62,
   "metadata": {
    "collapsed": false,
    "scrolled": false
   },
   "outputs": [
    {
     "data": {
      "text/plain": [
       "array([  5.26098295e-02,   3.77243623e-02,   1.36146668e-01,\n",
       "         4.48022982e-01,   6.59832668e-02,   1.93518793e-02,\n",
       "         1.46341868e-03,   0.00000000e+00,   6.47332086e-02,\n",
       "         0.00000000e+00,   1.71304553e-04,   1.64558042e-06,\n",
       "         0.00000000e+00,   0.00000000e+00,   0.00000000e+00,\n",
       "         1.77210602e-05,   3.78401791e-06,   6.69901119e-04,\n",
       "         7.96658603e-05,   4.03490525e-03,   0.00000000e+00,\n",
       "         1.93210080e-04,   1.90122681e-07,   1.25587076e-06,\n",
       "         4.45340041e-04,   1.90570534e-04,   4.34501712e-05,\n",
       "         1.20838189e-03,   5.00069431e-04,   0.00000000e+00,\n",
       "         2.76909676e-02,   0.00000000e+00,   9.17915586e-05,\n",
       "         7.59543243e-06,   1.72414298e-03,   0.00000000e+00,\n",
       "         6.29421339e-05,   3.51092187e-02,   7.13601584e-02,\n",
       "         4.22805123e-04,   0.00000000e+00,   3.81280034e-03,\n",
       "         2.87497982e-04,   3.28376985e-04,   3.92130301e-03,\n",
       "         2.40399257e-03,   9.61174380e-03,   9.63654816e-04,\n",
       "         1.65857842e-03,   5.49637870e-03,   7.50687590e-06,\n",
       "         1.44153386e-03])"
      ]
     },
     "execution_count": 62,
     "metadata": {},
     "output_type": "execute_result"
    }
   ],
   "source": [
    "# Finding the feature importances\n",
    "\n",
    "rf.feature_importances_"
   ]
  },
  {
   "cell_type": "code",
   "execution_count": 64,
   "metadata": {
    "collapsed": false
   },
   "outputs": [
    {
     "name": "stdout",
     "output_type": "stream",
     "text": [
      "Feature ranking:\n",
      "lat. feature 3 (0.448023)\n",
      "lon. feature 2 (0.136147)\n",
      "rating. feature 38 (0.071360)\n",
      "age. feature 4 (0.065983)\n",
      "len_desc. feature 8 (0.064733)\n",
      "len_who. feature 0 (0.052610)\n",
      "approval. feature 1 (0.037724)\n",
      "closed. feature 37 (0.035109)\n",
      "open. feature 30 (0.027691)\n",
      "NaN. feature 5 (0.019352)\n",
      "arts-culture. feature 46 (0.009612)\n",
      "book-clubs. feature 49 (0.005496)\n",
      "career-business. feature 19 (0.004035)\n",
      "cars-motorcycles. feature 44 (0.003921)\n",
      "community-environment. feature 41 (0.003813)\n",
      "dancing. feature 45 (0.002404)\n",
      "education-learning. feature 34 (0.001724)\n",
      "fashion-beauty. feature 48 (0.001659)\n",
      "fitness. feature 6 (0.001463)\n",
      "food-drink. feature 51 (0.001442)\n",
      "games. feature 27 (0.001208)\n",
      "government-politics. feature 47 (0.000964)\n",
      "health-wellbeing. feature 17 (0.000670)\n",
      "hobbies-crafts. feature 28 (0.000500)\n",
      "language. feature 24 (0.000445)\n",
      "lgbt. feature 39 (0.000423)\n",
      "lifestyle. feature 43 (0.000328)\n",
      "movies-film. feature 42 (0.000287)\n",
      "music. feature 21 (0.000193)\n",
      "new-age-spirituality. feature 25 (0.000191)\n",
      "outdoors-adventure. feature 10 (0.000171)\n",
      "paranormal. feature 32 (0.000092)\n",
      "parents-family. feature 18 (0.000080)\n",
      "pets-animals. feature 36 (0.000063)\n",
      "photography. feature 26 (0.000043)\n",
      "religion-beliefs. feature 15 (0.000018)\n",
      "sci-fi-fantasy. feature 33 (0.000008)\n",
      "singles. feature 50 (0.000008)\n",
      "socializing. feature 16 (0.000004)\n",
      "sports-recreation. feature 11 (0.000002)\n",
      "support. feature 23 (0.000001)\n",
      "tech. feature 22 (0.000000)\n",
      "writing. feature 14 (0.000000)\n",
      "members. feature 13 (0.000000)\n",
      "public. feature 12 (0.000000)\n",
      "public_limited. feature 9 (0.000000)\n",
      "AZ. feature 35 (0.000000)\n",
      "CA. feature 7 (0.000000)\n",
      "IL. feature 20 (0.000000)\n",
      "NY. feature 40 (0.000000)\n",
      "PA. feature 29 (0.000000)\n",
      "TX. feature 31 (0.000000)\n"
     ]
    },
    {
     "data": {
      "image/png": "[encoded data removed]",
      "text/plain": [
       "<matplotlib.figure.Figure at 0x122229790>"
      ]
     },
     "metadata": {},
     "output_type": "display_data"
    }
   ],
   "source": [
    "# Plotting the feature importances\n",
    "\n",
    "importances = rf.feature_importances_\n",
    "std = np.std([tree.feature_importances_ for tree in rf.estimators_],\n",
    "             axis=0)\n",
    "indices = np.argsort(importances)[::-1]\n",
    "\n",
    "# Print the feature ranking\n",
    "print(\"Feature ranking:\")\n",
    "\n",
    "for f in range(X.shape[1]):\n",
    "    print(\"%s. feature %d (%f)\" % (X.columns[f], indices[f], importances[indices[f]]))\n",
    "\n",
    "# Plot the feature importances of the forest\n",
    "plt.figure()\n",
    "plt.title(\"Feature importances\")\n",
    "plt.bar(range(X.shape[1]), importances[indices],\n",
    "       color=\"r\", yerr=std[indices], align=\"center\")\n",
    "plt.xticks(range(X.shape[1]), indices)\n",
    "plt.xlim([-1, X.shape[1]])\n",
    "plt.show()"
   ]
  },
  {
   "cell_type": "markdown",
   "metadata": {
    "collapsed": true
   },
   "source": [
    "The algorithm spitted out a terrible accuracy. Since the training data has a lower accuracy than the test data, it might mean it is underfitting.\n",
    "\n",
    "There might be two reasons:\n",
    "1. There is only ~16,000 data points. I defintely need more data points.\n",
    "\n",
    "2. I am predicting the number of members which might be hard to get the exact number. Maybe if I create classes to represent the level of members.\n",
    "    Class A: Under 2,000 members\n",
    "    Class B: 2,000 - 4,000 members\n",
    "    Class C: 4,000 - 6,000 members\n",
    "    Class D: Over 6,000 members"
   ]
  }
 ],
 "metadata": {
  "kernelspec": {
   "display_name": "Python 2",
   "language": "python",
   "name": "python2"
  },
  "language_info": {
   "codemirror_mode": {
    "name": "ipython",
    "version": 2
   },
   "file_extension": ".py",
   "mimetype": "text/x-python",
   "name": "python",
   "nbconvert_exporter": "python",
   "pygments_lexer": "ipython2",
   "version": "2.7.12"
  }
 },
 "nbformat": 4,
 "nbformat_minor": 0
}
